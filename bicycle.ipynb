{
 "cells": [
  {
   "cell_type": "markdown",
   "metadata": {},
   "source": [
    "## 자전거 대여량 예측(GRU)"
   ]
  },
  {
   "cell_type": "code",
   "execution_count": 2,
   "metadata": {},
   "outputs": [],
   "source": [
    "import pandas as pd\n",
    "import numpy as np\n",
    "import matplotlib.pyplot as plt\n",
    "from sklearn.preprocessing import MinMaxScaler\n",
    "from keras.models import Sequential\n",
    "from keras.layers import GRU, Dense, Dropout\n",
    "from sklearn.model_selection import train_test_split"
   ]
  },
  {
   "cell_type": "code",
   "execution_count": 3,
   "metadata": {},
   "outputs": [],
   "source": [
    "# 1. 데이터 불러오기\n",
    "dataset_path = './dataset/'\n",
    "train_data = pd.read_csv(dataset_path + 'train.csv')\n",
    "test_data = pd.read_csv(dataset_path + 'test.csv')"
   ]
  },
  {
   "cell_type": "code",
   "execution_count": 6,
   "metadata": {},
   "outputs": [],
   "source": [
    "# 2. 데이터 전처리\n",
    "def preprocess_data(data):\n",
    "    data['datetime'] = pd.to_datetime(data['datetime'])\n",
    "    data['hour'] = data['datetime'].dt.hour\n",
    "    data['day'] = data['datetime'].dt.day\n",
    "    data['month'] = data['datetime'].dt.month\n",
    "    data['year'] = data['datetime'].dt.year\n",
    "\n",
    "    data = data.drop(['datetime', 'casual', 'registered'], axis=1, errors='ignore')\n",
    "    return data"
   ]
  },
  {
   "cell_type": "code",
   "execution_count": 7,
   "metadata": {},
   "outputs": [],
   "source": [
    "train_data = preprocess_data(train_data)\n",
    "test_data = preprocess_data(test_data)"
   ]
  },
  {
   "cell_type": "code",
   "execution_count": 8,
   "metadata": {},
   "outputs": [],
   "source": [
    "# Feature와 target 분리\n",
    "X = train_data.drop(['count'], axis=1).values\n",
    "y = train_data['count'].values.reshape(-1, 1)"
   ]
  },
  {
   "cell_type": "code",
   "execution_count": 9,
   "metadata": {},
   "outputs": [],
   "source": [
    "# MinMaxScaler를 사용하여 데이터 정규화\n",
    "scaler_X = MinMaxScaler()\n",
    "scaler_y = MinMaxScaler()"
   ]
  },
  {
   "cell_type": "code",
   "execution_count": 10,
   "metadata": {},
   "outputs": [],
   "source": [
    "X = scaler_X.fit_transform(X)\n",
    "y = scaler_y.fit_transform(y)"
   ]
  },
  {
   "cell_type": "code",
   "execution_count": 11,
   "metadata": {},
   "outputs": [],
   "source": [
    "# Train/Test 데이터 분리\n",
    "X_train, X_val, y_train, y_val = train_test_split(X, y, test_size=0.2, random_state=42)"
   ]
  },
  {
   "cell_type": "code",
   "execution_count": 12,
   "metadata": {},
   "outputs": [],
   "source": [
    "# 3. 데이터 차원 조정 (GRU 입력 형태로 변환)\n",
    "X_train = np.reshape(X_train, (X_train.shape[0], X_train.shape[1], 1))\n",
    "X_val = np.reshape(X_val, (X_val.shape[0], X_val.shape[1], 1))"
   ]
  },
  {
   "cell_type": "code",
   "execution_count": 13,
   "metadata": {},
   "outputs": [],
   "source": [
    "# 4. GRU 모델 생성성\n",
    "model = Sequential([\n",
    "    GRU(64, return_sequences=True, input_shape=(X_train.shape[1], 1)),\n",
    "    Dropout(0.2),\n",
    "    GRU(32),\n",
    "    Dropout(0.2),\n",
    "    Dense(1)\n",
    "])"
   ]
  },
  {
   "cell_type": "code",
   "execution_count": 14,
   "metadata": {},
   "outputs": [],
   "source": [
    "model.compile(optimizer='adam', loss='mse')"
   ]
  },
  {
   "cell_type": "code",
   "execution_count": 16,
   "metadata": {},
   "outputs": [
    {
     "name": "stdout",
     "output_type": "stream",
     "text": [
      "Epoch 1/50\n",
      "273/273 [==============================] - 6s 12ms/step - loss: 0.0303 - val_loss: 0.0285\n",
      "Epoch 2/50\n",
      "273/273 [==============================] - 3s 10ms/step - loss: 0.0288 - val_loss: 0.0268\n",
      "Epoch 3/50\n",
      "273/273 [==============================] - 3s 10ms/step - loss: 0.0271 - val_loss: 0.0244\n",
      "Epoch 4/50\n",
      "273/273 [==============================] - 3s 9ms/step - loss: 0.0246 - val_loss: 0.0224\n",
      "Epoch 5/50\n",
      "273/273 [==============================] - 3s 10ms/step - loss: 0.0225 - val_loss: 0.0203\n",
      "Epoch 6/50\n",
      "273/273 [==============================] - 3s 9ms/step - loss: 0.0204 - val_loss: 0.0183\n",
      "Epoch 7/50\n",
      "273/273 [==============================] - 3s 9ms/step - loss: 0.0187 - val_loss: 0.0163\n",
      "Epoch 8/50\n",
      "273/273 [==============================] - 3s 9ms/step - loss: 0.0171 - val_loss: 0.0150\n",
      "Epoch 9/50\n",
      "273/273 [==============================] - 3s 10ms/step - loss: 0.0160 - val_loss: 0.0153\n",
      "Epoch 10/50\n",
      "273/273 [==============================] - 3s 10ms/step - loss: 0.0157 - val_loss: 0.0143\n",
      "Epoch 11/50\n",
      "273/273 [==============================] - 3s 9ms/step - loss: 0.0152 - val_loss: 0.0139\n",
      "Epoch 12/50\n",
      "273/273 [==============================] - 3s 11ms/step - loss: 0.0150 - val_loss: 0.0134\n",
      "Epoch 13/50\n",
      "273/273 [==============================] - 3s 10ms/step - loss: 0.0143 - val_loss: 0.0134\n",
      "Epoch 14/50\n",
      "273/273 [==============================] - 3s 12ms/step - loss: 0.0141 - val_loss: 0.0131\n",
      "Epoch 15/50\n",
      "273/273 [==============================] - 3s 12ms/step - loss: 0.0142 - val_loss: 0.0128\n",
      "Epoch 16/50\n",
      "273/273 [==============================] - 4s 14ms/step - loss: 0.0137 - val_loss: 0.0129\n",
      "Epoch 17/50\n",
      "273/273 [==============================] - 4s 14ms/step - loss: 0.0136 - val_loss: 0.0130\n",
      "Epoch 18/50\n",
      "273/273 [==============================] - 4s 13ms/step - loss: 0.0134 - val_loss: 0.0126\n",
      "Epoch 19/50\n",
      "273/273 [==============================] - 3s 10ms/step - loss: 0.0132 - val_loss: 0.0120\n",
      "Epoch 20/50\n",
      "273/273 [==============================] - 3s 12ms/step - loss: 0.0129 - val_loss: 0.0122\n",
      "Epoch 21/50\n",
      "273/273 [==============================] - 3s 13ms/step - loss: 0.0130 - val_loss: 0.0129\n",
      "Epoch 22/50\n",
      "273/273 [==============================] - 3s 12ms/step - loss: 0.0125 - val_loss: 0.0117\n",
      "Epoch 23/50\n",
      "273/273 [==============================] - 4s 15ms/step - loss: 0.0120 - val_loss: 0.0098\n",
      "Epoch 24/50\n",
      "273/273 [==============================] - 3s 11ms/step - loss: 0.0102 - val_loss: 0.0074\n",
      "Epoch 25/50\n",
      "273/273 [==============================] - 3s 12ms/step - loss: 0.0085 - val_loss: 0.0064\n",
      "Epoch 26/50\n",
      "273/273 [==============================] - 3s 12ms/step - loss: 0.0074 - val_loss: 0.0047\n",
      "Epoch 27/50\n",
      "273/273 [==============================] - 3s 11ms/step - loss: 0.0060 - val_loss: 0.0044\n",
      "Epoch 28/50\n",
      "273/273 [==============================] - 3s 12ms/step - loss: 0.0056 - val_loss: 0.0046\n",
      "Epoch 29/50\n",
      "273/273 [==============================] - 3s 12ms/step - loss: 0.0053 - val_loss: 0.0048\n",
      "Epoch 30/50\n",
      "273/273 [==============================] - 3s 11ms/step - loss: 0.0047 - val_loss: 0.0034\n",
      "Epoch 31/50\n",
      "273/273 [==============================] - 3s 11ms/step - loss: 0.0046 - val_loss: 0.0039\n",
      "Epoch 32/50\n",
      "273/273 [==============================] - 3s 10ms/step - loss: 0.0047 - val_loss: 0.0039\n",
      "Epoch 33/50\n",
      "273/273 [==============================] - 3s 10ms/step - loss: 0.0042 - val_loss: 0.0032\n",
      "Epoch 34/50\n",
      "273/273 [==============================] - 3s 10ms/step - loss: 0.0042 - val_loss: 0.0030\n",
      "Epoch 35/50\n",
      "273/273 [==============================] - 3s 10ms/step - loss: 0.0040 - val_loss: 0.0032\n",
      "Epoch 36/50\n",
      "273/273 [==============================] - 3s 9ms/step - loss: 0.0039 - val_loss: 0.0034\n",
      "Epoch 37/50\n",
      "273/273 [==============================] - 3s 10ms/step - loss: 0.0038 - val_loss: 0.0034\n",
      "Epoch 38/50\n",
      "273/273 [==============================] - 3s 9ms/step - loss: 0.0037 - val_loss: 0.0027\n",
      "Epoch 39/50\n",
      "273/273 [==============================] - 3s 10ms/step - loss: 0.0038 - val_loss: 0.0028\n",
      "Epoch 40/50\n",
      "273/273 [==============================] - 3s 10ms/step - loss: 0.0036 - val_loss: 0.0028\n",
      "Epoch 41/50\n",
      "273/273 [==============================] - 3s 9ms/step - loss: 0.0035 - val_loss: 0.0026\n",
      "Epoch 42/50\n",
      "273/273 [==============================] - 3s 9ms/step - loss: 0.0035 - val_loss: 0.0028\n",
      "Epoch 43/50\n",
      "273/273 [==============================] - 3s 10ms/step - loss: 0.0036 - val_loss: 0.0030\n",
      "Epoch 44/50\n",
      "273/273 [==============================] - 3s 9ms/step - loss: 0.0036 - val_loss: 0.0037\n",
      "Epoch 45/50\n",
      "273/273 [==============================] - 3s 9ms/step - loss: 0.0034 - val_loss: 0.0036\n",
      "Epoch 46/50\n",
      "273/273 [==============================] - 3s 9ms/step - loss: 0.0034 - val_loss: 0.0023\n",
      "Epoch 47/50\n",
      "273/273 [==============================] - 3s 10ms/step - loss: 0.0033 - val_loss: 0.0023\n",
      "Epoch 48/50\n",
      "273/273 [==============================] - 3s 9ms/step - loss: 0.0033 - val_loss: 0.0028\n",
      "Epoch 49/50\n",
      "273/273 [==============================] - 3s 9ms/step - loss: 0.0033 - val_loss: 0.0028\n",
      "Epoch 50/50\n",
      "273/273 [==============================] - 3s 9ms/step - loss: 0.0033 - val_loss: 0.0032\n"
     ]
    }
   ],
   "source": [
    "# 5. 모델 학습\n",
    "history = model.fit(\n",
    "    X_train, y_train, \n",
    "    validation_data=(X_val, y_val),\n",
    "    epochs=50,\n",
    "    batch_size=32,\n",
    "    verbose=1\n",
    ")"
   ]
  },
  {
   "cell_type": "code",
   "execution_count": 17,
   "metadata": {},
   "outputs": [
    {
     "data": {
      "image/png": "[encoded data removed]",
      "text/plain": [
       "<Figure size 640x480 with 1 Axes>"
      ]
     },
     "metadata": {},
     "output_type": "display_data"
    }
   ],
   "source": [
    "# 6. 학습 과정 시각화\n",
    "plt.plot(history.history['loss'], label='Train Loss')\n",
    "plt.plot(history.history['val_loss'], label='Validation Loss')\n",
    "plt.legend()\n",
    "plt.title('Model Loss')\n",
    "plt.xlabel('Epochs')\n",
    "plt.ylabel('Loss')\n",
    "plt.show()"
   ]
  },
  {
   "cell_type": "code",
   "execution_count": 18,
   "metadata": {},
   "outputs": [],
   "source": [
    "# 7. 테스트 데이터 예측\n",
    "X_test = scaler_X.transform(test_data.values)\n",
    "X_test = np.reshape(X_test, (X_test.shape[0], X_test.shape[1], 1))\n",
    "\n",
    "y_pred = model.predict(X_test)\n",
    "y_pred = scaler_y.inverse_transform(y_pred)"
   ]
  },
  {
   "cell_type": "code",
   "execution_count": 19,
   "metadata": {},
   "outputs": [
    {
     "name": "stdout",
     "output_type": "stream",
     "text": [
      "예측 결과가 'test_predictions.csv'로 저장되었습니다.\n"
     ]
    }
   ],
   "source": [
    "# 결과 저장\n",
    "test_data['predicted_count'] = y_pred\n",
    "test_data.to_csv(dataset_path + 'test_predictions.csv', index=False)\n",
    "print(\"예측 결과가 'test_predictions.csv'로 저장되었습니다.\")"
   ]
  }
 ],
 "metadata": {
  "kernelspec": {
   "display_name": ".venv",
   "language": "python",
   "name": "python3"
  },
  "language_info": {
   "codemirror_mode": {
    "name": "ipython",
    "version": 3
   },
   "file_extension": ".py",
   "mimetype": "text/x-python",
   "name": "python",
   "nbconvert_exporter": "python",
   "pygments_lexer": "ipython3",
   "version": "3.10.6"
  }
 },
 "nbformat": 4,
 "nbformat_minor": 2
}
