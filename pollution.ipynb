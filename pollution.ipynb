{
 "cells": [
  {
   "cell_type": "code",
   "execution_count": 19,
   "metadata": {},
   "outputs": [
    {
     "name": "stdout",
     "output_type": "stream",
     "text": [
      "\n",
      "결측치 현황:\n",
      "Temperature                      0\n",
      "Humidity                         0\n",
      "PM2.5                            0\n",
      "PM10                             0\n",
      "NO2                              0\n",
      "SO2                              0\n",
      "CO                               0\n",
      "Proximity_to_Industrial_Areas    0\n",
      "Population_Density               0\n",
      "Air Quality                      0\n",
      "dtype: int64\n",
      "\n",
      "기술통계량:\n",
      "       Temperature     Humidity        PM2.5         PM10          NO2  \\\n",
      "count  5000.000000  5000.000000  5000.000000  5000.000000  5000.000000   \n",
      "mean     30.029020    70.056120    20.142140    30.218360    26.412100   \n",
      "std       6.720661    15.863577    24.554546    27.349199     8.895356   \n",
      "min      13.400000    36.000000     0.000000    -0.200000     7.400000   \n",
      "25%      25.100000    58.300000     4.600000    12.300000    20.100000   \n",
      "50%      29.000000    69.800000    12.000000    21.700000    25.300000   \n",
      "75%      34.000000    80.300000    26.100000    38.100000    31.900000   \n",
      "max      58.600000   128.100000   295.000000   315.800000    64.900000   \n",
      "\n",
      "               SO2           CO  Proximity_to_Industrial_Areas  \\\n",
      "count  5000.000000  5000.000000                    5000.000000   \n",
      "mean     10.014820     1.500354                       8.425400   \n",
      "std       6.750303     0.546027                       3.610944   \n",
      "min      -6.200000     0.650000                       2.500000   \n",
      "25%       5.100000     1.030000                       5.400000   \n",
      "50%       8.000000     1.410000                       7.900000   \n",
      "75%      13.725000     1.840000                      11.100000   \n",
      "max      44.900000     3.720000                      25.800000   \n",
      "\n",
      "       Population_Density  \n",
      "count         5000.000000  \n",
      "mean           497.423800  \n",
      "std            152.754084  \n",
      "min            188.000000  \n",
      "25%            381.000000  \n",
      "50%            494.000000  \n",
      "75%            600.000000  \n",
      "max            957.000000  \n"
     ]
    }
   ],
   "source": [
    "import pandas as pd\n",
    "import numpy as np\n",
    "import seaborn as sns\n",
    "import matplotlib.pyplot as plt\n",
    "from sklearn.model_selection import train_test_split\n",
    "from sklearn.preprocessing import StandardScaler, LabelEncoder\n",
    "from sklearn.ensemble import RandomForestClassifier\n",
    "from sklearn.metrics import classification_report, confusion_matrix\n",
    "\n",
    "# 데이터 로드 및 기본 분석\n",
    "data = pd.read_csv('./dataset/PollutionData.csv')\n",
    "\n",
    "# 결측치 확인\n",
    "print(\"\\n결측치 현황:\")\n",
    "print(data.isnull().sum())\n",
    "\n",
    "# 기술통계량\n",
    "print(\"\\n기술통계량:\")\n",
    "print(data.describe())"
   ]
  },
  {
   "cell_type": "code",
   "execution_count": null,
   "metadata": {},
   "outputs": [],
   "source": [
    "import matplotlib\n",
    "print(matplotlib.get_backend())"
   ]
  },
  {
   "cell_type": "code",
   "execution_count": 23,
   "metadata": {},
   "outputs": [
    {
     "name": "stderr",
     "output_type": "stream",
     "text": [
      "c:\\Ai_Project\\.venv\\lib\\site-packages\\seaborn\\utils.py:61: UserWarning: Glyph 8722 (\\N{MINUS SIGN}) missing from font(s) NanumGothic.\n",
      "  fig.canvas.draw()\n",
      "C:\\Users\\human-14\\AppData\\Local\\Temp\\ipykernel_8496\\2721810213.py:8: UserWarning: FigureCanvasAgg is non-interactive, and thus cannot be shown\n",
      "  plt.show()\n"
     ]
    }
   ],
   "source": [
    "# 상관관계 히트맵\n",
    "numeric_df = data.select_dtypes(include=[np.number])\n",
    "plt.rcParams['font.family'] = 'NanumGothic'\n",
    "plt.figure(figsize=(12, 10))\n",
    "sns.heatmap(numeric_df.corr(), annot=True, cmap='coolwarm', center=0)\n",
    "plt.title('환경 변수 간 상관관계')\n",
    "plt.tight_layout()\n",
    "plt.show()"
   ]
  },
  {
   "cell_type": "code",
   "execution_count": 25,
   "metadata": {},
   "outputs": [
    {
     "name": "stderr",
     "output_type": "stream",
     "text": [
      "C:\\Users\\human-14\\AppData\\Local\\Temp\\ipykernel_8496\\2445357252.py:10: UserWarning: FigureCanvasAgg is non-interactive, and thus cannot be shown\n",
      "  plt.show()\n"
     ]
    }
   ],
   "source": [
    "# 오염물질 간의 산점도\n",
    "pollutants = ['PM2.5', 'PM10', 'NO2']\n",
    "plt.figure(figsize=(15, 5))\n",
    "for i, pollutant in enumerate(pollutants[1:], 1):\n",
    "    plt.subplot(1, 4, i)\n",
    "    plt.scatter(data['PM2.5'], data[pollutant], alpha=0.5)\n",
    "    plt.xlabel('PM2.5')\n",
    "    plt.ylabel(pollutant)\n",
    "plt.tight_layout()\n",
    "plt.show()"
   ]
  },
  {
   "cell_type": "code",
   "execution_count": 1,
   "metadata": {},
   "outputs": [
    {
     "name": "stdout",
     "output_type": "stream",
     "text": [
      "데이터 로드 성공: dataset/PollutionData.csv\n",
      "데이터 크기: (5000, 10)\n",
      "\n",
      "결측치 현황:\n",
      "Temperature                      0\n",
      "Humidity                         0\n",
      "PM2.5                            0\n",
      "PM10                             0\n",
      "NO2                              0\n",
      "SO2                              0\n",
      "CO                               0\n",
      "Proximity_to_Industrial_Areas    0\n",
      "Population_Density               0\n",
      "Air Quality                      0\n",
      "dtype: int64\n",
      "\n",
      "기술통계량:\n",
      "       Temperature     Humidity        PM2.5         PM10          NO2  \\\n",
      "count  5000.000000  5000.000000  5000.000000  5000.000000  5000.000000   \n",
      "mean     30.029020    70.056120    20.142140    30.218360    26.412100   \n",
      "std       6.720661    15.863577    24.554546    27.349199     8.895356   \n",
      "min      13.400000    36.000000     0.000000    -0.200000     7.400000   \n",
      "25%      25.100000    58.300000     4.600000    12.300000    20.100000   \n",
      "50%      29.000000    69.800000    12.000000    21.700000    25.300000   \n",
      "75%      34.000000    80.300000    26.100000    38.100000    31.900000   \n",
      "max      58.600000   128.100000   295.000000   315.800000    64.900000   \n",
      "\n",
      "               SO2           CO  Proximity_to_Industrial_Areas  \\\n",
      "count  5000.000000  5000.000000                    5000.000000   \n",
      "mean     10.014820     1.500354                       8.425400   \n",
      "std       6.750303     0.546027                       3.610944   \n",
      "min      -6.200000     0.650000                       2.500000   \n",
      "25%       5.100000     1.030000                       5.400000   \n",
      "50%       8.000000     1.410000                       7.900000   \n",
      "75%      13.725000     1.840000                      11.100000   \n",
      "max      44.900000     3.720000                      25.800000   \n",
      "\n",
      "       Population_Density  \n",
      "count         5000.000000  \n",
      "mean           497.423800  \n",
      "std            152.754084  \n",
      "min            188.000000  \n",
      "25%            381.000000  \n",
      "50%            494.000000  \n",
      "75%            600.000000  \n",
      "max            957.000000  \n",
      "\n",
      "전체 데이터 프로파일링 리포트 생성 중...\n"
     ]
    },
    {
     "data": {
      "application/vnd.jupyter.widget-view+json": {
       "model_id": "3df74f99edfd49c48eac7b7477e1064c",
       "version_major": 2,
       "version_minor": 0
      },
      "text/plain": [
       "Summarize dataset:   0%|          | 0/5 [00:00<?, ?it/s]"
      ]
     },
     "metadata": {},
     "output_type": "display_data"
    },
    {
     "data": {
      "application/vnd.jupyter.widget-view+json": {
       "model_id": "5cf76419859a40d6a2bfe1293173f18f",
       "version_major": 2,
       "version_minor": 0
      },
      "text/plain": [
       "Generate report structure:   0%|          | 0/1 [00:00<?, ?it/s]"
      ]
     },
     "metadata": {},
     "output_type": "display_data"
    },
    {
     "data": {
      "application/vnd.jupyter.widget-view+json": {
       "model_id": "d18166f34c3c4b0dab9519a85c87112a",
       "version_major": 2,
       "version_minor": 0
      },
      "text/plain": [
       "Render HTML:   0%|          | 0/1 [00:00<?, ?it/s]"
      ]
     },
     "metadata": {},
     "output_type": "display_data"
    },
    {
     "data": {
      "application/vnd.jupyter.widget-view+json": {
       "model_id": "5caf6bdfe94240e0a15a0c8e8008c059",
       "version_major": 2,
       "version_minor": 0
      },
      "text/plain": [
       "Export report to file:   0%|          | 0/1 [00:00<?, ?it/s]"
      ]
     },
     "metadata": {},
     "output_type": "display_data"
    },
    {
     "name": "stdout",
     "output_type": "stream",
     "text": [
      "\n",
      "주요 변수 프로파일링 리포트 생성 중...\n"
     ]
    },
    {
     "name": "stderr",
     "output_type": "stream",
     "text": [
      "c:\\Ai_Project\\.venv\\lib\\site-packages\\ydata_profiling\\utils\\dataframe.py:137: SettingWithCopyWarning: \n",
      "A value is trying to be set on a copy of a slice from a DataFrame\n",
      "\n",
      "See the caveats in the documentation: https://pandas.pydata.org/pandas-docs/stable/user_guide/indexing.html#returning-a-view-versus-a-copy\n",
      "  df.rename(columns={\"index\": \"df_index\"}, inplace=True)\n"
     ]
    },
    {
     "data": {
      "application/vnd.jupyter.widget-view+json": {
       "model_id": "93380db803314b86abdc103de57530cb",
       "version_major": 2,
       "version_minor": 0
      },
      "text/plain": [
       "Summarize dataset:   0%|          | 0/5 [00:00<?, ?it/s]"
      ]
     },
     "metadata": {},
     "output_type": "display_data"
    },
    {
     "data": {
      "application/vnd.jupyter.widget-view+json": {
       "model_id": "ab55d4df6f7148fe8d07597addf4c233",
       "version_major": 2,
       "version_minor": 0
      },
      "text/plain": [
       "Generate report structure:   0%|          | 0/1 [00:00<?, ?it/s]"
      ]
     },
     "metadata": {},
     "output_type": "display_data"
    },
    {
     "data": {
      "application/vnd.jupyter.widget-view+json": {
       "model_id": "28e3e10e8d844296a5500aedace7ca63",
       "version_major": 2,
       "version_minor": 0
      },
      "text/plain": [
       "Render HTML:   0%|          | 0/1 [00:00<?, ?it/s]"
      ]
     },
     "metadata": {},
     "output_type": "display_data"
    },
    {
     "data": {
      "application/vnd.jupyter.widget-view+json": {
       "model_id": "6079f0bc85f14ab48220880de57812e0",
       "version_major": 2,
       "version_minor": 0
      },
      "text/plain": [
       "Export report to file:   0%|          | 0/1 [00:00<?, ?it/s]"
      ]
     },
     "metadata": {},
     "output_type": "display_data"
    },
    {
     "name": "stdout",
     "output_type": "stream",
     "text": [
      "\n",
      "기본 통계 정보:\n",
      "       Temperature     Humidity        PM2.5         PM10          NO2  \\\n",
      "count  5000.000000  5000.000000  5000.000000  5000.000000  5000.000000   \n",
      "mean     30.029020    70.056120    20.142140    30.218360    26.412100   \n",
      "std       6.720661    15.863577    24.554546    27.349199     8.895356   \n",
      "min      13.400000    36.000000     0.000000    -0.200000     7.400000   \n",
      "25%      25.100000    58.300000     4.600000    12.300000    20.100000   \n",
      "50%      29.000000    69.800000    12.000000    21.700000    25.300000   \n",
      "75%      34.000000    80.300000    26.100000    38.100000    31.900000   \n",
      "max      58.600000   128.100000   295.000000   315.800000    64.900000   \n",
      "\n",
      "               SO2           CO  Proximity_to_Industrial_Areas  \\\n",
      "count  5000.000000  5000.000000                    5000.000000   \n",
      "mean     10.014820     1.500354                       8.425400   \n",
      "std       6.750303     0.546027                       3.610944   \n",
      "min      -6.200000     0.650000                       2.500000   \n",
      "25%       5.100000     1.030000                       5.400000   \n",
      "50%       8.000000     1.410000                       7.900000   \n",
      "75%      13.725000     1.840000                      11.100000   \n",
      "max      44.900000     3.720000                      25.800000   \n",
      "\n",
      "       Population_Density  \n",
      "count         5000.000000  \n",
      "mean           497.423800  \n",
      "std            152.754084  \n",
      "min            188.000000  \n",
      "25%            381.000000  \n",
      "50%            494.000000  \n",
      "75%            600.000000  \n",
      "max            957.000000  \n",
      "\n",
      "결측치 현황:\n",
      "Temperature                      0\n",
      "Humidity                         0\n",
      "PM2.5                            0\n",
      "PM10                             0\n",
      "NO2                              0\n",
      "SO2                              0\n",
      "CO                               0\n",
      "Proximity_to_Industrial_Areas    0\n",
      "Population_Density               0\n",
      "Air Quality                      0\n",
      "dtype: int64\n",
      "\n",
      "대기질 등급 분포:\n",
      "Air Quality\n",
      "Good         2000\n",
      "Moderate     1500\n",
      "Poor         1000\n",
      "Hazardous     500\n",
      "Name: count, dtype: int64\n",
      "\n",
      "오염물질 간 상관계수:\n",
      "       PM2.5   PM10    NO2    SO2     CO\n",
      "PM2.5  1.000  0.973  0.333  0.300  0.395\n",
      "PM10   0.973  1.000  0.440  0.402  0.519\n",
      "NO2    0.333  0.440  1.000  0.572  0.711\n",
      "SO2    0.300  0.402  0.572  1.000  0.679\n",
      "CO     0.395  0.519  0.711  0.679  1.000\n"
     ]
    }
   ],
   "source": [
    "import pandas as pd\n",
    "import numpy as np\n",
    "from ydata_profiling import ProfileReport\n",
    "\n",
    "def loadData(file_path='dataset/PollutionData.csv'):\n",
    "    try:\n",
    "        df = pd.read_csv(file_path)\n",
    "        print(f\"데이터 로드 성공: {file_path}\")\n",
    "        print(f\"데이터 크기: {df.shape}\")\n",
    "        \n",
    "        # 모든 변수 선택 (이전보다 확장)\n",
    "        selected_features = [\n",
    "            'Temperature', 'Humidity', \n",
    "            'PM2.5', 'PM10', 'NO2', 'SO2', 'CO',\n",
    "            'Proximity_to_Industrial_Areas', 'Population_Density',\n",
    "            'Air Quality'\n",
    "        ]\n",
    "        df = df[selected_features]\n",
    "        \n",
    "        # 결측치 확인\n",
    "        print(\"\\n결측치 현황:\")\n",
    "        print(df.isnull().sum())\n",
    "        \n",
    "        # 기술통계량\n",
    "        print(\"\\n기술통계량:\")\n",
    "        print(df.describe())\n",
    "        \n",
    "        return df\n",
    "    \n",
    "    except FileNotFoundError:\n",
    "        print(f\"Error: {file_path} 파일을 찾을 수 없습니다.\")\n",
    "        return None\n",
    "\n",
    "def perform_eda(df):\n",
    "    # 전체 데이터에 대한 프로파일링\n",
    "    print(\"\\n전체 데이터 프로파일링 리포트 생성 중...\")\n",
    "    profile = ProfileReport(df, title=\"대기질 데이터 분석 리포트\")\n",
    "    profile.to_file(\"air_quality_report.html\")\n",
    "    \n",
    "    # 주요 변수들에 대한 프로파일링\n",
    "    print(\"\\n주요 변수 프로파일링 리포트 생성 중...\")\n",
    "    key_features = ['Population_Density', 'PM2.5', 'PM10', 'NO2', 'SO2', \n",
    "                    'Proximity_to_Industrial_Areas', 'Air Quality']\n",
    "    selected_df = df[key_features]\n",
    "    selected_profile = ProfileReport(selected_df, title=\"주요 변수 분석 리포트\")\n",
    "    selected_profile.to_file(\"./report/key_features_report.html\")\n",
    "\n",
    "def main_eda():\n",
    "    # 데이터 로드\n",
    "    df = loadData(file_path='dataset/PollutionData.csv')\n",
    "    \n",
    "    if df is not None:\n",
    "        # EDA 수행\n",
    "        perform_eda(df)\n",
    "        \n",
    "        # 기본 통계량 출력\n",
    "        print(\"\\n기본 통계 정보:\")\n",
    "        print(df.describe())\n",
    "        \n",
    "        # 결측치 확인\n",
    "        print(\"\\n결측치 현황:\")\n",
    "        print(df.isnull().sum())\n",
    "        \n",
    "        # 대기질 등급 분포\n",
    "        print(\"\\n대기질 등급 분포:\")\n",
    "        print(df['Air Quality'].value_counts())\n",
    "        \n",
    "        # 추가: 오염물질 간의 상관계수\n",
    "        pollutants = ['PM2.5', 'PM10', 'NO2', 'SO2', 'CO']\n",
    "        print(\"\\n오염물질 간 상관계수:\")\n",
    "        print(df[pollutants].corr().round(3))\n",
    "\n",
    "if __name__ == \"__main__\":\n",
    "    main_eda()"
   ]
  },
  {
   "cell_type": "code",
   "execution_count": 16,
   "metadata": {},
   "outputs": [
    {
     "name": "stderr",
     "output_type": "stream",
     "text": [
      "c:\\Ai_Project\\.venv\\lib\\site-packages\\seaborn\\utils.py:61: UserWarning: Glyph 8722 (\\N{MINUS SIGN}) missing from font(s) NanumGothic.\n",
      "  fig.canvas.draw()\n",
      "C:\\Users\\human-14\\AppData\\Local\\Temp\\ipykernel_8496\\1376792305.py:8: UserWarning: FigureCanvasAgg is non-interactive, and thus cannot be shown\n",
      "  plt.show()\n",
      "C:\\Users\\human-14\\AppData\\Local\\Temp\\ipykernel_8496\\1376792305.py:19: UserWarning: FigureCanvasAgg is non-interactive, and thus cannot be shown\n",
      "  plt.show()\n"
     ]
    }
   ],
   "source": [
    "numeric_df = data.select_dtypes(include=[np.number])\n",
    "plt.rcParams['font.family'] = 'NanumGothic'\n",
    "# 상관관계 히트맵\n",
    "plt.figure(figsize=(12, 10))\n",
    "sns.heatmap(numeric_df.corr(), annot=True, cmap='coolwarm', center=0)\n",
    "plt.title('환경 변수 간 상관관계')\n",
    "plt.tight_layout()\n",
    "plt.show()\n",
    "\n",
    "# 오염물질 간의 산점도\n",
    "pollutants = ['PM2.5', 'PM10', 'NO2', 'SO2', 'CO']\n",
    "plt.figure(figsize=(15, 5))\n",
    "for i, pollutant in enumerate(pollutants[1:], 1):\n",
    "    plt.subplot(1, 4, i)\n",
    "    plt.scatter(data['PM2.5'], data[pollutant], alpha=0.5)\n",
    "    plt.xlabel('PM2.5')\n",
    "    plt.ylabel(pollutant)\n",
    "plt.tight_layout()\n",
    "plt.show()"
   ]
  },
  {
   "cell_type": "code",
   "execution_count": 4,
   "metadata": {},
   "outputs": [],
   "source": [
    "def preprocess_data(df):\n",
    "    # 특성과 타겟 분리\n",
    "    features = [\n",
    "        'Temperature', 'Humidity',\n",
    "        'PM2.5', 'PM10', 'NO2', 'SO2', 'CO',\n",
    "        'Proximity_to_Industrial_Areas', 'Population_Density'\n",
    "    ]\n",
    "    X = df[features]\n",
    "    \n",
    "    # Label Encoding for Air Quality\n",
    "    le = LabelEncoder()\n",
    "    y = le.fit_transform(df['Air Quality'])\n",
    "    \n",
    "    # 데이터 스케일링\n",
    "    scaler = StandardScaler()\n",
    "    X_scaled = scaler.fit_transform(X)\n",
    "    \n",
    "    return X_scaled, y, le.classes_, features"
   ]
  },
  {
   "cell_type": "code",
   "execution_count": 5,
   "metadata": {},
   "outputs": [],
   "source": [
    "def analyze_feature_patterns(df):\n",
    "    \"\"\"대기질 등급별 주요 변수들의 패턴 분석\"\"\"\n",
    "    variables = ['PM2.5', 'PM10', 'NO2', 'Population_Density', 'Proximity_to_Industrial_Areas']\n",
    "    \n",
    "    plt.figure(figsize=(15, 10))\n",
    "    for i, var in enumerate(variables, 1):\n",
    "        plt.subplot(2, 3, i)\n",
    "        sns.boxplot(x='Air Quality', y=var, data=df)\n",
    "        plt.title(f'{var} by Air Quality')\n",
    "        plt.xticks(rotation=45)\n",
    "    plt.tight_layout()\n",
    "    plt.show()"
   ]
  },
  {
   "cell_type": "code",
   "execution_count": 9,
   "metadata": {},
   "outputs": [],
   "source": [
    "def train_and_evaluate_model(X, y, feature_names):\n",
    "    # 데이터 분할\n",
    "    X_train, X_test, y_train, y_test = train_test_split(X, y, test_size=0.2, random_state=42)\n",
    "    \n",
    "    # Random Forest 모델 학습\n",
    "    rf_model = RandomForestClassifier(n_estimators=100, random_state=42)\n",
    "    rf_model.fit(X_train, y_train)\n",
    "    \n",
    "    # 예측 및 평가\n",
    "    y_pred = rf_model.predict(X_test)\n",
    "    \n",
    "    # 평가 지표 출력\n",
    "    print(\"\\n분류 보고서:\")\n",
    "    print(classification_report(y_test, y_pred))\n",
    "    \n",
    "    # 특성 중요도 시각화\n",
    "    feature_importance = pd.DataFrame({\n",
    "        'feature': feature_names,\n",
    "        'importance': rf_model.feature_importances_\n",
    "    }).sort_values('importance', ascending=True)\n",
    "    \n",
    "    plt.figure(figsize=(10, 8))\n",
    "    sns.barplot(x='importance', y='feature', data=feature_importance)\n",
    "    plt.title('환경 변수 중요도 순위')\n",
    "    plt.show()\n",
    "    \n",
    "    return rf_model, X_test, y_test"
   ]
  },
  {
   "cell_type": "code",
   "execution_count": 7,
   "metadata": {},
   "outputs": [],
   "source": [
    "def analyze_industrial_impact(df):\n",
    "    \"\"\"산업단지 근접성과 대기오염물질의 관계 분석\"\"\"\n",
    "    plt.figure(figsize=(15, 5))\n",
    "    \n",
    "    pollutants = ['PM2.5', 'NO2', 'SO2']\n",
    "    for i, pollutant in enumerate(pollutants, 1):\n",
    "        plt.subplot(1, 3, i)\n",
    "        plt.scatter(df['Proximity_to_Industrial_Areas'], df[pollutant], alpha=0.5)\n",
    "        plt.xlabel('산업단지 근접성')\n",
    "        plt.ylabel(pollutant)\n",
    "        \n",
    "        # 추세선 추가\n",
    "        z = np.polyfit(df['Proximity_to_Industrial_Areas'], df[pollutant], 1)\n",
    "        p = np.poly1d(z)\n",
    "        plt.plot(df['Proximity_to_Industrial_Areas'], p(df['Proximity_to_Industrial_Areas']), \"r--\", alpha=0.8)\n",
    "    \n",
    "    plt.tight_layout()\n",
    "    plt.show()"
   ]
  },
  {
   "cell_type": "code",
   "execution_count": 8,
   "metadata": {},
   "outputs": [
    {
     "name": "stdout",
     "output_type": "stream",
     "text": [
      "데이터 로드 성공: dataset/PollutionData.csv\n",
      "데이터 크기: (5000, 10)\n",
      "\n",
      "결측치 현황:\n",
      "Temperature                      0\n",
      "Humidity                         0\n",
      "PM2.5                            0\n",
      "PM10                             0\n",
      "NO2                              0\n",
      "SO2                              0\n",
      "CO                               0\n",
      "Proximity_to_Industrial_Areas    0\n",
      "Population_Density               0\n",
      "Air Quality                      0\n",
      "dtype: int64\n",
      "\n",
      "기술통계량:\n",
      "       Temperature     Humidity        PM2.5         PM10          NO2  \\\n",
      "count  5000.000000  5000.000000  5000.000000  5000.000000  5000.000000   \n",
      "mean     30.029020    70.056120    20.142140    30.218360    26.412100   \n",
      "std       6.720661    15.863577    24.554546    27.349199     8.895356   \n",
      "min      13.400000    36.000000     0.000000    -0.200000     7.400000   \n",
      "25%      25.100000    58.300000     4.600000    12.300000    20.100000   \n",
      "50%      29.000000    69.800000    12.000000    21.700000    25.300000   \n",
      "75%      34.000000    80.300000    26.100000    38.100000    31.900000   \n",
      "max      58.600000   128.100000   295.000000   315.800000    64.900000   \n",
      "\n",
      "               SO2           CO  Proximity_to_Industrial_Areas  \\\n",
      "count  5000.000000  5000.000000                    5000.000000   \n",
      "mean     10.014820     1.500354                       8.425400   \n",
      "std       6.750303     0.546027                       3.610944   \n",
      "min      -6.200000     0.650000                       2.500000   \n",
      "25%       5.100000     1.030000                       5.400000   \n",
      "50%       8.000000     1.410000                       7.900000   \n",
      "75%      13.725000     1.840000                      11.100000   \n",
      "max      44.900000     3.720000                      25.800000   \n",
      "\n",
      "       Population_Density  \n",
      "count         5000.000000  \n",
      "mean           497.423800  \n",
      "std            152.754084  \n",
      "min            188.000000  \n",
      "25%            381.000000  \n",
      "50%            494.000000  \n",
      "75%            600.000000  \n",
      "max            957.000000  \n"
     ]
    },
    {
     "name": "stderr",
     "output_type": "stream",
     "text": [
      "C:\\Users\\human-14\\AppData\\Local\\Temp\\ipykernel_8496\\2633412275.py:9: UserWarning: Glyph 54872 (\\N{HANGUL SYLLABLE HWAN}) missing from font(s) DejaVu Sans.\n",
      "  plt.tight_layout()\n",
      "C:\\Users\\human-14\\AppData\\Local\\Temp\\ipykernel_8496\\2633412275.py:9: UserWarning: Glyph 44221 (\\N{HANGUL SYLLABLE GYEONG}) missing from font(s) DejaVu Sans.\n",
      "  plt.tight_layout()\n",
      "C:\\Users\\human-14\\AppData\\Local\\Temp\\ipykernel_8496\\2633412275.py:9: UserWarning: Glyph 48320 (\\N{HANGUL SYLLABLE BYEON}) missing from font(s) DejaVu Sans.\n",
      "  plt.tight_layout()\n",
      "C:\\Users\\human-14\\AppData\\Local\\Temp\\ipykernel_8496\\2633412275.py:9: UserWarning: Glyph 49688 (\\N{HANGUL SYLLABLE SU}) missing from font(s) DejaVu Sans.\n",
      "  plt.tight_layout()\n",
      "C:\\Users\\human-14\\AppData\\Local\\Temp\\ipykernel_8496\\2633412275.py:9: UserWarning: Glyph 44036 (\\N{HANGUL SYLLABLE GAN}) missing from font(s) DejaVu Sans.\n",
      "  plt.tight_layout()\n",
      "C:\\Users\\human-14\\AppData\\Local\\Temp\\ipykernel_8496\\2633412275.py:9: UserWarning: Glyph 49345 (\\N{HANGUL SYLLABLE SANG}) missing from font(s) DejaVu Sans.\n",
      "  plt.tight_layout()\n",
      "C:\\Users\\human-14\\AppData\\Local\\Temp\\ipykernel_8496\\2633412275.py:9: UserWarning: Glyph 44288 (\\N{HANGUL SYLLABLE GWAN}) missing from font(s) DejaVu Sans.\n",
      "  plt.tight_layout()\n",
      "C:\\Users\\human-14\\AppData\\Local\\Temp\\ipykernel_8496\\2633412275.py:9: UserWarning: Glyph 44228 (\\N{HANGUL SYLLABLE GYE}) missing from font(s) DejaVu Sans.\n",
      "  plt.tight_layout()\n",
      "C:\\Users\\human-14\\AppData\\Local\\Temp\\ipykernel_8496\\2633412275.py:10: UserWarning: FigureCanvasAgg is non-interactive, and thus cannot be shown\n",
      "  plt.show()\n",
      "C:\\Users\\human-14\\AppData\\Local\\Temp\\ipykernel_8496\\2633412275.py:21: UserWarning: FigureCanvasAgg is non-interactive, and thus cannot be shown\n",
      "  plt.show()\n",
      "C:\\Users\\human-14\\AppData\\Local\\Temp\\ipykernel_8496\\3721025757.py:12: UserWarning: FigureCanvasAgg is non-interactive, and thus cannot be shown\n",
      "  plt.show()\n",
      "C:\\Users\\human-14\\AppData\\Local\\Temp\\ipykernel_8496\\3591102192.py:17: UserWarning: Glyph 49328 (\\N{HANGUL SYLLABLE SAN}) missing from font(s) DejaVu Sans.\n",
      "  plt.tight_layout()\n",
      "C:\\Users\\human-14\\AppData\\Local\\Temp\\ipykernel_8496\\3591102192.py:17: UserWarning: Glyph 50629 (\\N{HANGUL SYLLABLE EOB}) missing from font(s) DejaVu Sans.\n",
      "  plt.tight_layout()\n",
      "C:\\Users\\human-14\\AppData\\Local\\Temp\\ipykernel_8496\\3591102192.py:17: UserWarning: Glyph 45800 (\\N{HANGUL SYLLABLE DAN}) missing from font(s) DejaVu Sans.\n",
      "  plt.tight_layout()\n",
      "C:\\Users\\human-14\\AppData\\Local\\Temp\\ipykernel_8496\\3591102192.py:17: UserWarning: Glyph 51648 (\\N{HANGUL SYLLABLE JI}) missing from font(s) DejaVu Sans.\n",
      "  plt.tight_layout()\n",
      "C:\\Users\\human-14\\AppData\\Local\\Temp\\ipykernel_8496\\3591102192.py:17: UserWarning: Glyph 44540 (\\N{HANGUL SYLLABLE GEUN}) missing from font(s) DejaVu Sans.\n",
      "  plt.tight_layout()\n",
      "C:\\Users\\human-14\\AppData\\Local\\Temp\\ipykernel_8496\\3591102192.py:17: UserWarning: Glyph 51217 (\\N{HANGUL SYLLABLE JEOB}) missing from font(s) DejaVu Sans.\n",
      "  plt.tight_layout()\n",
      "C:\\Users\\human-14\\AppData\\Local\\Temp\\ipykernel_8496\\3591102192.py:17: UserWarning: Glyph 49457 (\\N{HANGUL SYLLABLE SEONG}) missing from font(s) DejaVu Sans.\n",
      "  plt.tight_layout()\n",
      "C:\\Users\\human-14\\AppData\\Local\\Temp\\ipykernel_8496\\3591102192.py:18: UserWarning: FigureCanvasAgg is non-interactive, and thus cannot be shown\n",
      "  plt.show()\n"
     ]
    },
    {
     "name": "stdout",
     "output_type": "stream",
     "text": [
      "\n",
      "분류 보고서:\n",
      "              precision    recall  f1-score   support\n",
      "\n",
      "           0       1.00      1.00      1.00       409\n",
      "           1       0.92      0.88      0.90       111\n",
      "           2       0.97      0.97      0.97       294\n",
      "           3       0.88      0.90      0.89       186\n",
      "\n",
      "    accuracy                           0.96      1000\n",
      "   macro avg       0.94      0.94      0.94      1000\n",
      "weighted avg       0.96      0.96      0.96      1000\n",
      "\n"
     ]
    },
    {
     "name": "stderr",
     "output_type": "stream",
     "text": [
      "C:\\Users\\human-14\\AppData\\Local\\Temp\\ipykernel_8496\\3073691174.py:25: UserWarning: FigureCanvasAgg is non-interactive, and thus cannot be shown\n",
      "  plt.show()\n"
     ]
    }
   ],
   "source": [
    "def main():\n",
    "    # 데이터 로드 및 준비\n",
    "    df = loadData(file_path='dataset/PollutionData.csv')\n",
    "    \n",
    "    if df is not None:\n",
    "        # 상관관계 분석\n",
    "        analyze_correlations(df)\n",
    "        \n",
    "        # 패턴 분석\n",
    "        analyze_feature_patterns(df)\n",
    "        \n",
    "        # 산업단지 영향 분석\n",
    "        analyze_industrial_impact(df)\n",
    "        \n",
    "        # 데이터 전처리\n",
    "        X_scaled, y, class_names, feature_names = preprocess_data(df)\n",
    "        \n",
    "        # 모델 학습 및 평가\n",
    "        model, X_test, y_test = train_and_evaluate_model(X_scaled, y, feature_names)\n",
    "\n",
    "if __name__ == \"__main__\":\n",
    "    main()"
   ]
  }
 ],
 "metadata": {
  "kernelspec": {
   "display_name": ".venv",
   "language": "python",
   "name": "python3"
  },
  "language_info": {
   "codemirror_mode": {
    "name": "ipython",
    "version": 3
   },
   "file_extension": ".py",
   "mimetype": "text/x-python",
   "name": "python",
   "nbconvert_exporter": "python",
   "pygments_lexer": "ipython3",
   "version": "3.10.6"
  }
 },
 "nbformat": 4,
 "nbformat_minor": 2
}
