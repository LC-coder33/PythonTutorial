{
 "cells": [
  {
   "cell_type": "code",
   "execution_count": 28,
   "metadata": {},
   "outputs": [
    {
     "name": "stdout",
     "output_type": "stream",
     "text": [
      "hello world\thello python\n",
      "10 -20\n",
      "3.14 -2.718\n"
     ]
    }
   ],
   "source": [
    "a=\"hello world\"\n",
    "b=\"hello python\"\n",
    "num1 = 10\n",
    "num2 = -20\n",
    "num3 = 3.14\n",
    "num4 = -2.718\n",
    "print(a + \"\\t\" + b)\n",
    "print(num1, num2)\n",
    "print(num3, num4)"
   ]
  },
  {
   "cell_type": "code",
   "execution_count": 29,
   "metadata": {},
   "outputs": [
    {
     "name": "stdout",
     "output_type": "stream",
     "text": [
      "P\n",
      "n\n"
     ]
    }
   ],
   "source": [
    "text=\"Python\"\n",
    "print(text[0]) # 출력:P\n",
    "print(text[-1]) # 출력 n (뒤에서 첫 번째 문자)"
   ]
  },
  {
   "cell_type": "code",
   "execution_count": 1,
   "metadata": {},
   "outputs": [
    {
     "name": "stdout",
     "output_type": "stream",
     "text": [
      "This is\n",
      "a multi-line\n",
      "string.\n"
     ]
    }
   ],
   "source": [
    "str3 = \"\"\"This is\n",
    "a multi-line\n",
    "string.\"\"\"\n",
    "print(str3)"
   ]
  },
  {
   "cell_type": "code",
   "execution_count": 40,
   "metadata": {},
   "outputs": [
    {
     "name": "stdout",
     "output_type": "stream",
     "text": [
      "Pyt\n",
      "Pto\n"
     ]
    }
   ],
   "source": [
    "text = \"Python\"\n",
    "print(text[0:3])\n",
    "print(text[::2])"
   ]
  },
  {
   "cell_type": "code",
   "execution_count": 47,
   "metadata": {},
   "outputs": [
    {
     "name": "stdout",
     "output_type": "stream",
     "text": [
      "Pto\n"
     ]
    }
   ],
   "source": [
    "text = \"Python\"\n",
    "print(text[0:6:2]) # start:end:step"
   ]
  },
  {
   "cell_type": "code",
   "execution_count": 73,
   "metadata": {},
   "outputs": [
    {
     "name": "stdout",
     "output_type": "stream",
     "text": [
      "['Python', 'is', 'fun']\n",
      "Pythonisfun\n",
      "Python is fun\n"
     ]
    }
   ],
   "source": [
    "text = \"Python is fun\"\n",
    "words = text.split()    # 공백 기준으로 split 분할\n",
    "print(words)\n",
    "joined_text = ''.join(words)\n",
    "print(joined_text)\n",
    "spaced_text = ' '.join(words)\n",
    "print(spaced_text)"
   ]
  },
  {
   "cell_type": "code",
   "execution_count": 68,
   "metadata": {},
   "outputs": [
    {
     "name": "stdout",
     "output_type": "stream",
     "text": [
      "5\n",
      "MY NAME IS CHAN AND I AM 31 YEARS OLD.\n",
      "my name is chan and i am 31 years old.\n"
     ]
    }
   ],
   "source": [
    "name = \"Chan\"\n",
    "age = 31\n",
    "text = (f\"My name is {name} and I am {age} years old.\") # 포메팅으로 변수를 넣어준다\n",
    "print(text.count('a'))\n",
    "print(text.upper())\n",
    "print(text.lower())"
   ]
  },
  {
   "cell_type": "code",
   "execution_count": 2,
   "metadata": {},
   "outputs": [
    {
     "name": "stdout",
     "output_type": "stream",
     "text": [
      " Hello World \n",
      "Hello World\n",
      "Hello World \n",
      " Hello World\n"
     ]
    }
   ],
   "source": [
    "text = \" Hello World \"\n",
    "print(text)\n",
    "print(text.strip())\n",
    "print(text.lstrip())\n",
    "print(text.rstrip())    # 공백 때문에 에러가 날 때가 있어서 많이 쓰인다"
   ]
  },
  {
   "cell_type": "code",
   "execution_count": 3,
   "metadata": {},
   "outputs": [
    {
     "name": "stdout",
     "output_type": "stream",
     "text": [
      "Hello\n",
      "Python\n",
      "탭을\t사용한\t예시\n",
      "백슬래시는 이렇게 \\ 출력\n"
     ]
    }
   ],
   "source": [
    "print(\"Hello\\nPython\")\n",
    "print(\"탭을\\t사용한\\t예시\")\n",
    "print(\"백슬래시는 이렇게 \\\\ 출력\") # \\n 줄바꿈 \\t 탭 \\\\ 백슬래시"
   ]
  },
  {
   "cell_type": "code",
   "execution_count": 4,
   "metadata": {},
   "outputs": [
    {
     "name": "stdout",
     "output_type": "stream",
     "text": [
      "False\n",
      "True\n",
      "False\n"
     ]
    }
   ],
   "source": [
    "a = True\n",
    "b = False\n",
    "print(a and b) #False   and: 두 조건이 모두 참일 때 참\n",
    "print(a or b) #True     or: 둘 중 하나라도 참이면 참\n",
    "print(not a) #False     not: 조건의 값을 반전시킴"
   ]
  },
  {
   "cell_type": "code",
   "execution_count": 11,
   "metadata": {},
   "outputs": [
    {
     "name": "stdout",
     "output_type": "stream",
     "text": [
      "접근 거부\n"
     ]
    }
   ],
   "source": [
    "is_authenticated = True\n",
    "has_permission = False\n",
    "if is_authenticated and has_permission:\n",
    "    print(\"접근 허용\")\n",
    "else:\n",
    "    print(\"접근 거부\")"
   ]
  },
  {
   "cell_type": "code",
   "execution_count": 25,
   "metadata": {},
   "outputs": [
    {
     "name": "stdout",
     "output_type": "stream",
     "text": [
      "apple\n",
      "['apple', 'banana']\n",
      "['apple', 'cherry']\n"
     ]
    }
   ],
   "source": [
    "empty_list = []\n",
    "numbers = [1, 2, 3, 4, 5]\n",
    "fruits = [\"apple\", \"banana\", \"cherry\"]\n",
    "print(fruits[0])\n",
    "print(fruits[0:2])\n",
    "print(fruits[0:3:2])"
   ]
  },
  {
   "cell_type": "code",
   "execution_count": 50,
   "metadata": {},
   "outputs": [
    {
     "name": "stdout",
     "output_type": "stream",
     "text": [
      "[3, 1, 4, 1, 5, 9]\n",
      "[1, 1, 3, 4, 5, 9]\n",
      "[1, 3, 4, 5, 9]\n",
      "[1, 3, 5, 9]\n",
      "4\n",
      "[9, 5, 3, 1]\n",
      "[5, 4, 3, 2, 1, 1, 1]\n",
      "3\n",
      "numbers3:  [5, 4, 3, 2, 1, 1, 1]\n",
      "[5, 4, 3, 2, 1, 1, 1, 6, 7, 8]\n",
      "[1, 1, 1, 2, 3, 4, 5, 6, 7, 8, 10, 11, 12]\n"
     ]
    }
   ],
   "source": [
    "numbers = [3,1,4,1,5]\n",
    "numbers.append(9)   #요소 추가\n",
    "print(numbers)\n",
    "numbers.sort()  #요소 정렬\n",
    "print(numbers)\n",
    "numbers.remove(1) #첫 번째로 발견되는 1을 제거\n",
    "print(numbers)\n",
    "removed_item = numbers.pop(2) #인덱스 2의 요소를 추출하고 삭제\n",
    "print(numbers)\n",
    "print(removed_item)\n",
    "numbers.reverse() #리스트 뒤집기\n",
    "print(numbers)\n",
    "\n",
    "numbers2 = [1,1,1,2,3,4,5]\n",
    "numbers2.reverse()\n",
    "print(numbers2)\n",
    "print(numbers2.count(1))\n",
    "\n",
    "numbers3 = numbers2.copy()  #그냥 copy없이 대입하면 새로운 독립적인 리스트가 되지 않음. numbers2의 변화까지 계속 참조\n",
    "        #.copy()를 사용하면 독립적인 리스트가 된 채로 numbers3에 대입 되어 numbers2의 추후 변화에 영향을 받지 않는다\n",
    "print(\"numbers3: \", numbers3)\n",
    "\n",
    "numbers3.extend([6,7,8])    #리스트 확장\n",
    "print(numbers3)\n",
    "another_list = [10,11,12]\n",
    "combined_list = numbers3 + another_list\n",
    "combined_list.sort()\n",
    "print(combined_list)"
   ]
  },
  {
   "cell_type": "code",
   "execution_count": 54,
   "metadata": {},
   "outputs": [
    {
     "name": "stdout",
     "output_type": "stream",
     "text": [
      "red\n",
      "('red', 'green')\n"
     ]
    }
   ],
   "source": [
    "empty_tuple = ()\n",
    "single_element = (5,)   #튜플에 단일 요소만 넣으려면 하나만 입력 후 , <-콤마까지 입력 해야 하나만 입력 된다\n",
    "\n",
    "colors = (\"red\",\"green\",\"blue\")\n",
    "print(colors[0])\n",
    "print(colors[0:2])"
   ]
  },
  {
   "cell_type": "code",
   "execution_count": 67,
   "metadata": {},
   "outputs": [
    {
     "name": "stdout",
     "output_type": "stream",
     "text": [
      "2\n",
      "4\n"
     ]
    }
   ],
   "source": [
    "numbers = (1,2,3,2,4)\n",
    "print(numbers.count(2))\n",
    "print(numbers.index(4)) #숫자 4가 최초로 등장하는 위치를 찾는 함수"
   ]
  },
  {
   "cell_type": "code",
   "execution_count": 68,
   "metadata": {},
   "outputs": [
    {
     "name": "stdout",
     "output_type": "stream",
     "text": [
      "x 좌표:  3\n",
      "y 좌표:  4\n"
     ]
    }
   ],
   "source": [
    "point = (3,4)\n",
    "print(\"x 좌표: \", point[0])\n",
    "print(\"y 좌표: \", point[1])"
   ]
  },
  {
   "cell_type": "code",
   "execution_count": 77,
   "metadata": {},
   "outputs": [
    {
     "name": "stdout",
     "output_type": "stream",
     "text": [
      "Bob\n",
      "31\n",
      "Charlie\n",
      "dict_keys(['name', 'age'])\n",
      "dict_values(['Charlie', 22])\n",
      "dict_items([('name', 'Charlie'), ('age', 22)])\n"
     ]
    }
   ],
   "source": [
    "# 키(key)-값(value) 쌍으로 데이터를 저장하는 매핑 타입의 자료형\n",
    "# 요소 추가, 수정, 삭제가 가능하며, 표기는 중괄호{} 안에 key: value 형태로 값을 저장함\n",
    "person = {\"name\": \"Bob\",\"age\":30,\"city\":\"New York\"}\n",
    "print(person[\"name\"])\n",
    "# print(person[\"age\"])\n",
    "person[\"age\"] = 31\n",
    "print(person[\"age\"])\n",
    "\n",
    "info = {\"name\": \"Charlie\",\"age\":22}\n",
    "print(info.get(\"name\"))\n",
    "\n",
    "print(info.keys())\n",
    "\n",
    "print(info.values())\n",
    "\n",
    "print(info.items())"
   ]
  },
  {
   "cell_type": "code",
   "execution_count": 79,
   "metadata": {},
   "outputs": [
    {
     "name": "stdout",
     "output_type": "stream",
     "text": [
      "[78, 85, 91, 65, 88, 72, 93, 95, 77, 82]\n",
      "[85, 91, 88, 93, 95]\n"
     ]
    }
   ],
   "source": [
    "score_list = [78,85,91,65,88,72,93,95,77,82]\n",
    "print(score_list)\n",
    "high_scores = [score for score in score_list if score >= 85]\n",
    "print(high_scores)"
   ]
  },
  {
   "cell_type": "code",
   "execution_count": 95,
   "metadata": {},
   "outputs": [
    {
     "name": "stdout",
     "output_type": "stream",
     "text": [
      "[15, 28, 73, 44, 56, 91, 10, 82, 63]\n",
      "문제1: 462\n",
      "문제2: [28, 44, 56, 10, 82]\n",
      "문제3: [63, 82, 10, 91, 56, 44, 73, 28, 15]\n",
      "문제4: 81\n"
     ]
    }
   ],
   "source": [
    "numbers = [15, 28, 73, 44, 56, 91, 10, 82, 63]\n",
    "print(numbers)\n",
    "print(\"문제1:\",sum(numbers))\n",
    "even = [num for num in numbers if num % 2 == 0]\n",
    "print(\"문제2:\",even)\n",
    "numbers.reverse()\n",
    "print(\"문제3:\",numbers)\n",
    "print(\"문제4:\",max(numbers)-min(numbers))\n"
   ]
  },
  {
   "cell_type": "code",
   "execution_count": 119,
   "metadata": {},
   "outputs": [
    {
     "name": "stdout",
     "output_type": "stream",
     "text": [
      "문제1: 정지은 95 점\n",
      "문제2: 87.4\n",
      "90점 이상 학생: ['이영희', '정지은']\n",
      "\n",
      "90점 이상 학생 이름:\n",
      "이영희\n",
      "정지은\n"
     ]
    }
   ],
   "source": [
    "student_scores = [(\"김철수\", 85), (\"이영희\", 92), (\"박민수\", 78), \n",
    "                 (\"정지은\", 95), (\"황동민\", 87)]\n",
    "max_student = max(student_scores,key=lambda x: x[1])\n",
    "print(\"문제1:\",max_student[0],max_student[1],\"점\")\n",
    "avg_student = sum(map(lambda x: x[1], student_scores)) / len(student_scores)\n",
    "print(\"문제2:\", avg_student)\n",
    "high_scores = [name for name, score in student_scores if score >= 90]\n",
    "print(\"90점 이상 학생:\", high_scores)\n",
    "high_scores2 = [(name, score) for name, score in student_scores if score >= 90]\n",
    "print(\"\\n90점 이상 학생 이름:\")\n",
    "for student in high_scores2:\n",
    "    print(student[0])\n"
   ]
  },
  {
   "cell_type": "code",
   "execution_count": 126,
   "metadata": {},
   "outputs": [
    {
     "name": "stdout",
     "output_type": "stream",
     "text": [
      "One\n"
     ]
    }
   ],
   "source": [
    "j = 1\n",
    "if j > 1:\n",
    "    print(True)\n",
    "elif j < 1:\n",
    "    print(False)\n",
    "else:\n",
    "    print(\"One\")"
   ]
  },
  {
   "cell_type": "code",
   "execution_count": 142,
   "metadata": {},
   "outputs": [
    {
     "name": "stdout",
     "output_type": "stream",
     "text": [
      "홀수입니다.\n"
     ]
    }
   ],
   "source": [
    "number = 5\n",
    "if number % 2 == 0:\n",
    "    print(\"짝수입니다.\")\n",
    "else:\n",
    "    print(\"홀수입니다.\")"
   ]
  },
  {
   "cell_type": "code",
   "execution_count": 11,
   "metadata": {},
   "outputs": [
    {
     "name": "stdout",
     "output_type": "stream",
     "text": [
      "이찬 : A학점\n"
     ]
    }
   ],
   "source": [
    "name, score =str(input(\"이름을 입력하세요: \")), int(input(\"점수를 입력하세요: \"))\n",
    "if score >= 90:\n",
    "    print(name,\":\", \"A학점\")\n",
    "elif score >= 80:\n",
    "    print(name,\":\", \"B학점\")\n",
    "elif score >= 70:\n",
    "    print(name,\":\", \"C학점\")\n",
    "elif score >= 60:\n",
    "    print(name,\":\", \"D학점\")\n",
    "elif score >100 or score < 0:\n",
    "    print(\"점수를 잘못 입력하셨습니다.\")\n",
    "else:\n",
    "    print(name,\":\", \"F학점\")"
   ]
  },
  {
   "cell_type": "code",
   "execution_count": 139,
   "metadata": {},
   "outputs": [
    {
     "name": "stdout",
     "output_type": "stream",
     "text": [
      "2\n",
      "4\n",
      "6\n",
      "8\n",
      "10\n"
     ]
    }
   ],
   "source": [
    "#기본 for문\n",
    "numbers = [1,2,3,4,5]\n",
    "for num in numbers:\n",
    "    print(num*2)"
   ]
  },
  {
   "cell_type": "code",
   "execution_count": 146,
   "metadata": {},
   "outputs": [
    {
     "name": "stdout",
     "output_type": "stream",
     "text": [
      "현재 값: 1\n",
      "현재 값: 3\n",
      "현재 값: 5\n"
     ]
    }
   ],
   "source": [
    "# range 와 함께 사용하는 for문\n",
    "for i in range(1, 6, 2):\n",
    "    print(f\"현재 값: {i}\")"
   ]
  },
  {
   "cell_type": "code",
   "execution_count": 147,
   "metadata": {},
   "outputs": [
    {
     "name": "stdout",
     "output_type": "stream",
     "text": [
      "i:1,j:1\n",
      "i:1,j:2\n",
      "i:2,j:1\n",
      "i:2,j:2\n",
      "i:3,j:1\n",
      "i:3,j:2\n"
     ]
    }
   ],
   "source": [
    "#중첩 for문\n",
    "for i in range (1, 4):\n",
    "    for j in range(1,3):\n",
    "        print(f\"i:{i},j:{j}\")"
   ]
  },
  {
   "cell_type": "code",
   "execution_count": 148,
   "metadata": {},
   "outputs": [
    {
     "name": "stdout",
     "output_type": "stream",
     "text": [
      "인덱스 0: A\n",
      "인덱스 1: B\n",
      "인덱스 2: C\n"
     ]
    }
   ],
   "source": [
    "#enumerate() 와 함께 사용 시\n",
    "items = [\"A\", \"B\", \"C\"]\n",
    "for idx, item in enumerate(items):\n",
    "    print(f\"인덱스 {idx}: {item}\")"
   ]
  },
  {
   "cell_type": "code",
   "execution_count": 149,
   "metadata": {},
   "outputs": [
    {
     "name": "stdout",
     "output_type": "stream",
     "text": [
      "카운트:0\n",
      "카운트:1\n",
      "카운트:2\n",
      "카운트:3\n",
      "카운트:4\n"
     ]
    }
   ],
   "source": [
    "#기본 while 문\n",
    "count = 0\n",
    "while count <5:\n",
    "    print(f\"카운트:{count}\")\n",
    "    count +=1"
   ]
  },
  {
   "cell_type": "code",
   "execution_count": null,
   "metadata": {},
   "outputs": [],
   "source": [
    "#무한 루프\n",
    "while True:\n",
    "    user_input = input(\"종료하려면 'exit' 입력\")\n",
    "    if user_input == \"exit\":\n",
    "        break"
   ]
  },
  {
   "cell_type": "code",
   "execution_count": 2,
   "metadata": {},
   "outputs": [
    {
     "name": "stdout",
     "output_type": "stream",
     "text": [
      "5\n",
      "4\n",
      "3\n",
      "2\n",
      "1\n",
      "반복 종료\n"
     ]
    }
   ],
   "source": [
    "#조건과 else 사용\n",
    "x = 5\n",
    "while x > 0:\n",
    "    print(x)\n",
    "    x -= 1\n",
    "else:\n",
    "    print(\"반복 종료\")"
   ]
  },
  {
   "cell_type": "code",
   "execution_count": 17,
   "metadata": {},
   "outputs": [
    {
     "name": "stdout",
     "output_type": "stream",
     "text": [
      "1\n",
      "3\n",
      "5\n",
      "7\n",
      "9\n",
      "11\n",
      "13\n",
      "15\n",
      "17\n",
      "19\n"
     ]
    }
   ],
   "source": [
    "#break & continue 사용\n",
    "n = 0\n",
    "while n < 20:\n",
    "    n += 1\n",
    "    if n % 2 == 0:\n",
    "        continue\n",
    "    print(n)\n",
    "    if n == 20:\n",
    "        break"
   ]
  }
 ],
 "metadata": {
  "kernelspec": {
   "display_name": ".venv",
   "language": "python",
   "name": "python3"
  },
  "language_info": {
   "codemirror_mode": {
    "name": "ipython",
    "version": 3
   },
   "file_extension": ".py",
   "mimetype": "text/x-python",
   "name": "python",
   "nbconvert_exporter": "python",
   "pygments_lexer": "ipython3",
   "version": "3.12.8"
  }
 },
 "nbformat": 4,
 "nbformat_minor": 2
}
