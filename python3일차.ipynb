{
 "cells": [
  {
   "cell_type": "code",
   "execution_count": 29,
   "metadata": {},
   "outputs": [
    {
     "name": "stdout",
     "output_type": "stream",
     "text": [
      "안녕하세요!\n"
     ]
    }
   ],
   "source": [
    "def greet():\n",
    "    print(\"안녕하세요!\")\n",
    "greet()"
   ]
  },
  {
   "cell_type": "code",
   "execution_count": 12,
   "metadata": {},
   "outputs": [
    {
     "name": "stdout",
     "output_type": "stream",
     "text": [
      "8\n"
     ]
    }
   ],
   "source": [
    "def add(a,b):\n",
    "    return a + b\n",
    "result = add(3,5)\n",
    "print(result)"
   ]
  },
  {
   "cell_type": "code",
   "execution_count": 33,
   "metadata": {},
   "outputs": [
    {
     "name": "stdout",
     "output_type": "stream",
     "text": [
      "안녕하세요, 홍길동님!\n",
      "안녕하세요, 준호님!\n"
     ]
    }
   ],
   "source": [
    "def greet(name=\"홍길동님\"):\n",
    "    print(f\"안녕하세요, {name}!\")\n",
    "    \n",
    "greet()\n",
    "greet(\"준호님\")"
   ]
  },
  {
   "cell_type": "code",
   "execution_count": 35,
   "metadata": {},
   "outputs": [
    {
     "name": "stdout",
     "output_type": "stream",
     "text": [
      "30\n"
     ]
    }
   ],
   "source": [
    "# *args: 임의의 개수의 숫자를 받아들임\n",
    "def multiply(*args):\n",
    "    result = 1\n",
    "    for num in args:\n",
    "        result *= num\n",
    "    return result\n",
    "print(multiply(2,3,5))"
   ]
  },
  {
   "cell_type": "code",
   "execution_count": 37,
   "metadata": {},
   "outputs": [
    {
     "name": "stdout",
     "output_type": "stream",
     "text": [
      "양수입니다.\n",
      "음수입니다.\n",
      "0입니다.\n"
     ]
    }
   ],
   "source": [
    "def check_number(num):\n",
    "    \"\"\"숫자가 양수, 음수, 또는 0인지 확인\"\"\"\n",
    "    if num > 0:\n",
    "        return \"양수입니다.\"\n",
    "    elif num < 0:\n",
    "        return \"음수입니다.\"\n",
    "    else:\n",
    "        return \"0입니다.\"\n",
    "print(check_number(5))\n",
    "print(check_number(-3))\n",
    "print(check_number(0))"
   ]
  },
  {
   "cell_type": "code",
   "execution_count": 38,
   "metadata": {},
   "outputs": [
    {
     "name": "stdout",
     "output_type": "stream",
     "text": [
      "로그인 성공\n",
      "로그인 실패\n"
     ]
    }
   ],
   "source": [
    "def login_check(username, password):\n",
    "    \"\"\"사용자 이름과 비밀번호를 확인\"\"\"\n",
    "    if username == \"admin\" and password == \"1234\":\n",
    "        return \"로그인 성공\"\n",
    "    else:\n",
    "        return \"로그인 실패\"\n",
    "    \n",
    "print(login_check(\"admin\",\"1234\"))\n",
    "print(login_check(\"admin\",\"5678\"))"
   ]
  },
  {
   "cell_type": "code",
   "execution_count": 44,
   "metadata": {},
   "outputs": [
    {
     "name": "stdout",
     "output_type": "stream",
     "text": [
      "9\n"
     ]
    }
   ],
   "source": [
    "# 리스트에서 최대값을 찾는 함수\n",
    "def find_max(numbers):\n",
    "    max_num = numbers[0]\n",
    "    for num in numbers:\n",
    "        if num > max_num:\n",
    "            max_num = num\n",
    "    return max_num\n",
    "numbers = [1,5,3,9,2]\n",
    "print(find_max(numbers))"
   ]
  },
  {
   "cell_type": "code",
   "execution_count": 45,
   "metadata": {},
   "outputs": [
    {
     "name": "stdout",
     "output_type": "stream",
     "text": [
      "[2, 4, 6, 8, 10]\n"
     ]
    }
   ],
   "source": [
    "def get_even_numbers(start, end):\n",
    "    even_nums = []\n",
    "    for num in range(start, end+1):\n",
    "        if num % 2 == 0:\n",
    "            even_nums.append(num)\n",
    "    return even_nums\n",
    "print(get_even_numbers(1,10))\n",
    "\n",
    "# end+1을 하는 이유: range는 마지막 숫자 직전까지만 포함하기 때문\n",
    "# even_nums.append(num): 짝수를 리스트에 추가\n"
   ]
  },
  {
   "cell_type": "code",
   "execution_count": 46,
   "metadata": {},
   "outputs": [
    {
     "name": "stdout",
     "output_type": "stream",
     "text": [
      "1개월 차:  200,000원 저축\n",
      "2개월 차:  400,000원 저축\n",
      "3개월 차:  600,000원 저축\n",
      "4개월 차:  800,000원 저축\n",
      "5개월 차:  1,000,000원 저축\n",
      "5개월 만에 목표 금액 달성!\n"
     ]
    }
   ],
   "source": [
    "# 목표 금액 모을 때까지 저축하는 시뮬레이션 함수\n",
    "def saving_simulation(target_amount, monthly_saving):\n",
    "    total = 0\n",
    "    months = 0\n",
    "    while total < target_amount:\n",
    "        total += monthly_saving\n",
    "        months += 1\n",
    "        print(f\"{months}개월 차: {total: ,}원 저축\")    # {total: ,}에서 콤마는 1000단위 구분\n",
    "    return f\"{months}개월 만에 목표 금액 달성!\"\n",
    "print(saving_simulation(1000000, 200000))   # 출력 : 5개월 만에 목표 금액 달성"
   ]
  },
  {
   "cell_type": "code",
   "execution_count": 62,
   "metadata": {},
   "outputs": [
    {
     "name": "stdout",
     "output_type": "stream",
     "text": [
      "더 큰 숫자입니다!\n",
      "더 작은 숫자입니다!\n",
      "더 작은 숫자입니다!\n",
      "정답입니다! 4번 만에 맞추셨습니다.\n"
     ]
    }
   ],
   "source": [
    "# 숫자 맞추기 게임 함수\n",
    "answer = int(input(\"1부터 100 사이의 숫자를 입력하세요.\"))\n",
    "def guess_number(answer):\n",
    "    count = 0\n",
    "    guess = None\n",
    "    while guess != answer:\n",
    "        guess = int(input(\"1부터 100 사이의 숫자를 맞춰보세요: \"))\n",
    "        count += 1\n",
    "        if guess < answer:\n",
    "            print(\"더 큰 숫자입니다!\")\n",
    "        elif guess > answer:\n",
    "            print(\"더 작은 숫자입니다!\")\n",
    "    return f\"정답입니다! {count}번 만에 맞추셨습니다.\"\n",
    "print(guess_number(answer))"
   ]
  },
  {
   "cell_type": "code",
   "execution_count": 73,
   "metadata": {},
   "outputs": [
    {
     "name": "stdout",
     "output_type": "stream",
     "text": [
      "===== 데이터 정규화 예제 =====\n",
      "원본 데이터: [0, 40, 60, 80, 100]\n",
      "정규화된 데이터: [0.0, 0.4, 0.6, 0.8, 1.0]\n"
     ]
    }
   ],
   "source": [
    "# 데이터 정규화 함수 (cf. 정규화: 서로 다른 범위의 값들을 비교할 떄, 값들을 동일한 기준으로 맞춤)\n",
    "def normalize_data(numbers):\n",
    "    \"\"\"\n",
    "    데이터를 0~1 사이의 값으로 정규화 하는 함수\n",
    "    정규화 = (값 - 최소값) / (최대값 - 최소값)\n",
    "    매개변수:\n",
    "        numbers: 정규화할 숫자 리스트\n",
    "    반환값:\n",
    "        정규화된 데이터 리스트 (0~1 사이의 값)\n",
    "    \"\"\"\n",
    "    min_value = min(numbers)    #데이터의 최소값\n",
    "    max_value = max(numbers)    #데이터의 최대값\n",
    "    normalized = [] #정규화된 값을 저장할 리스트\n",
    "    \n",
    "    for num in numbers:\n",
    "        #정규화 공식 적용\n",
    "        norm_value = (num - min_value) / (max_value - min_value)\n",
    "        normalized.append(norm_value)\n",
    "    return normalized\n",
    "\n",
    "data = [0,40,60,80,100]\n",
    "print(\"===== 데이터 정규화 예제 =====\")\n",
    "print(\"원본 데이터:\", data)     #출력 : 원본 데이터 : [10,20,30,40,50]\n",
    "normalized = normalize_data(data)\n",
    "print(\"정규화된 데이터:\", normalized)   #출력 : [0.0, 0.25, 0.5, 0.75, 1.0]"
   ]
  },
  {
   "cell_type": "code",
   "execution_count": 80,
   "metadata": {},
   "outputs": [
    {
     "name": "stdout",
     "output_type": "stream",
     "text": [
      "===== 데이터 분할 예제 =====\n",
      " 전체 데이터: [1, 2, 3, 4, 5, 6, 7, 8, 9, 10]\n",
      "기본 비율(80%)로 분할:\n",
      "학습 데이터: [1, 2, 3, 4, 5, 6, 7, 8]\n",
      "테스트 데이터: [9, 10]\n"
     ]
    }
   ],
   "source": [
    "#데이터 분할 함수\n",
    "def split_data(data, train_ratio=0.8):\n",
    "    \"\"\"\n",
    "    데이터를 학습용과 테스트용으로 분리하는 함수\n",
    "    매개변수:\n",
    "        data: 분할할 데이터 리스트\n",
    "        train_ratio: 학습 데이터의 비율 (기본값 0.8 = 80%)\n",
    "    반환값:\n",
    "        train_data: 학습용 데이터\n",
    "        test_data: 테스트용 데이터\n",
    "    \"\"\"\n",
    "    # 학습 데이터 개수 계산\n",
    "    split_index = int(len(data) * train_ratio)  # len함수: 문자열, 리스트, 튜플 등 길이 측정\n",
    "    #데이터 분할\n",
    "    train_data = data[:split_index]     #처음부터 split_index 까지\n",
    "    test_data = data[split_index:]      #split_index부터 끝까지\n",
    "    return train_data, test_data\n",
    "#데이터 분할 함수 사용 예시\n",
    "full_data = [1,2,3,4,5,6,7,8,9,10]\n",
    "print(\"===== 데이터 분할 예제 =====\")\n",
    "print(\" 전체 데이터:\", full_data)       #콤마(,)로 결과로 나오는 리스트의 요소 값을 구분\n",
    "#80:20으로 분할\n",
    "train, test = split_data(full_data)\n",
    "print(\"기본 비율(80%)로 분할:\")\n",
    "print(\"학습 데이터:\", train)    #학습 데이터 : [1,2,3,4,5,6,7,8]\n",
    "print(\"테스트 데이터:\",test)    # 테스트 데이터 : [9,10]"
   ]
  },
  {
   "cell_type": "code",
   "execution_count": 81,
   "metadata": {},
   "outputs": [
    {
     "name": "stdout",
     "output_type": "stream",
     "text": [
      "12\n"
     ]
    }
   ],
   "source": [
    "multiply = lambda x, y: x*y\n",
    "print(multiply(3,4))"
   ]
  },
  {
   "cell_type": "code",
   "execution_count": 82,
   "metadata": {},
   "outputs": [
    {
     "name": "stdout",
     "output_type": "stream",
     "text": [
      "12\n"
     ]
    }
   ],
   "source": [
    "def multiply(x,y):\n",
    "    return x*y\n",
    "print(multiply(3,4))"
   ]
  },
  {
   "cell_type": "code",
   "execution_count": 83,
   "metadata": {},
   "outputs": [
    {
     "name": "stdout",
     "output_type": "stream",
     "text": [
      "25\n"
     ]
    }
   ],
   "source": [
    "square = lambda x: x**2\n",
    "print(square(5))"
   ]
  },
  {
   "cell_type": "code",
   "execution_count": 84,
   "metadata": {},
   "outputs": [
    {
     "name": "stdout",
     "output_type": "stream",
     "text": [
      "10\n"
     ]
    }
   ],
   "source": [
    "add = lambda a,b: a + b\n",
    "print(add(3,7))"
   ]
  },
  {
   "cell_type": "code",
   "execution_count": 85,
   "metadata": {},
   "outputs": [
    {
     "name": "stdout",
     "output_type": "stream",
     "text": [
      "-4\n"
     ]
    }
   ],
   "source": [
    "substract = lambda a,b: a - b\n",
    "print(substract(3,7))"
   ]
  },
  {
   "cell_type": "code",
   "execution_count": 87,
   "metadata": {},
   "outputs": [
    {
     "name": "stdout",
     "output_type": "stream",
     "text": [
      "0.42857142857142855\n"
     ]
    }
   ],
   "source": [
    "divide = lambda a,b: a/b\n",
    "print(divide(3,7))"
   ]
  },
  {
   "cell_type": "code",
   "execution_count": 89,
   "metadata": {},
   "outputs": [
    {
     "name": "stdout",
     "output_type": "stream",
     "text": [
      "짝수\n"
     ]
    }
   ],
   "source": [
    "check_even = lambda x:\"짝수\" if x % 2 == 0 else \"홀수\"\n",
    "checkNum = int(input(\"숫자를 입력하세요.\"))\n",
    "print(check_even(4))"
   ]
  },
  {
   "cell_type": "code",
   "execution_count": 90,
   "metadata": {},
   "outputs": [
    {
     "name": "stdout",
     "output_type": "stream",
     "text": [
      "[1, 2, 5, 9]\n"
     ]
    }
   ],
   "source": [
    "numbers = [5,2,9,1]\n",
    "sorted_numbers = sorted(numbers, key=lambda x: x)\n",
    "print(sorted_numbers)"
   ]
  },
  {
   "cell_type": "code",
   "execution_count": 96,
   "metadata": {},
   "outputs": [
    {
     "name": "stdout",
     "output_type": "stream",
     "text": [
      "이름: 최민우 | 점수: 50점 | F학점\n"
     ]
    }
   ],
   "source": [
    "name, score = str(input(\"이름을 입력하세요: \")), int(input(\"점수를 입력하세요: \"))\n",
    "if score >= 90:\n",
    "    print(f\"이름: {name} | 점수: {score}점 | A학점\")\n",
    "elif score >=80:\n",
    "    print(f\"이름: {name} | 점수: {score}점 | B학점\")\n",
    "elif score >=70:\n",
    "    print(f\"이름: {name} | 점수: {score}점 | C학점\")\n",
    "elif score >= 60:\n",
    "    print(f\"이름: {name} | 점수: {score}점 | D학점\")\n",
    "elif score >100 or score < 0:\n",
    "    print(\"잘못된 점수입니다.\")\n",
    "else:\n",
    "    print(f\"이름: {name} | 점수: {score}점 | F학점\")"
   ]
  }
 ],
 "metadata": {
  "kernelspec": {
   "display_name": ".venv",
   "language": "python",
   "name": "python3"
  },
  "language_info": {
   "codemirror_mode": {
    "name": "ipython",
    "version": 3
   },
   "file_extension": ".py",
   "mimetype": "text/x-python",
   "name": "python",
   "nbconvert_exporter": "python",
   "pygments_lexer": "ipython3",
   "version": "3.12.8"
  }
 },
 "nbformat": 4,
 "nbformat_minor": 2
}
