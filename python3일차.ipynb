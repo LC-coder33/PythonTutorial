{
 "cells": [
  {
   "cell_type": "code",
   "execution_count": 29,
   "metadata": {},
   "outputs": [
    {
     "name": "stdout",
     "output_type": "stream",
     "text": [
      "안녕하세요!\n"
     ]
    }
   ],
   "source": [
    "def greet():\n",
    "    print(\"안녕하세요!\")\n",
    "greet()"
   ]
  },
  {
   "cell_type": "code",
   "execution_count": 12,
   "metadata": {},
   "outputs": [
    {
     "name": "stdout",
     "output_type": "stream",
     "text": [
      "8\n"
     ]
    }
   ],
   "source": [
    "def add(a,b):\n",
    "    return a + b\n",
    "result = add(3,5)\n",
    "print(result)"
   ]
  },
  {
   "cell_type": "code",
   "execution_count": 33,
   "metadata": {},
   "outputs": [
    {
     "name": "stdout",
     "output_type": "stream",
     "text": [
      "안녕하세요, 홍길동님!\n",
      "안녕하세요, 준호님!\n"
     ]
    }
   ],
   "source": [
    "def greet(name=\"홍길동님\"):\n",
    "    print(f\"안녕하세요, {name}!\")\n",
    "    \n",
    "greet()\n",
    "greet(\"준호님\")"
   ]
  },
  {
   "cell_type": "code",
   "execution_count": 35,
   "metadata": {},
   "outputs": [
    {
     "name": "stdout",
     "output_type": "stream",
     "text": [
      "30\n"
     ]
    }
   ],
   "source": [
    "# *args: 임의의 개수의 숫자를 받아들임\n",
    "def multiply(*args):\n",
    "    result = 1\n",
    "    for num in args:\n",
    "        result *= num\n",
    "    return result\n",
    "print(multiply(2,3,5))"
   ]
  },
  {
   "cell_type": "code",
   "execution_count": 37,
   "metadata": {},
   "outputs": [
    {
     "name": "stdout",
     "output_type": "stream",
     "text": [
      "양수입니다.\n",
      "음수입니다.\n",
      "0입니다.\n"
     ]
    }
   ],
   "source": [
    "def check_number(num):\n",
    "    \"\"\"숫자가 양수, 음수, 또는 0인지 확인\"\"\"\n",
    "    if num > 0:\n",
    "        return \"양수입니다.\"\n",
    "    elif num < 0:\n",
    "        return \"음수입니다.\"\n",
    "    else:\n",
    "        return \"0입니다.\"\n",
    "print(check_number(5))\n",
    "print(check_number(-3))\n",
    "print(check_number(0))"
   ]
  },
  {
   "cell_type": "code",
   "execution_count": 38,
   "metadata": {},
   "outputs": [
    {
     "name": "stdout",
     "output_type": "stream",
     "text": [
      "로그인 성공\n",
      "로그인 실패\n"
     ]
    }
   ],
   "source": [
    "def login_check(username, password):\n",
    "    \"\"\"사용자 이름과 비밀번호를 확인\"\"\"\n",
    "    if username == \"admin\" and password == \"1234\":\n",
    "        return \"로그인 성공\"\n",
    "    else:\n",
    "        return \"로그인 실패\"\n",
    "    \n",
    "print(login_check(\"admin\",\"1234\"))\n",
    "print(login_check(\"admin\",\"5678\"))"
   ]
  },
  {
   "cell_type": "code",
   "execution_count": 44,
   "metadata": {},
   "outputs": [
    {
     "name": "stdout",
     "output_type": "stream",
     "text": [
      "9\n"
     ]
    }
   ],
   "source": [
    "# 리스트에서 최대값을 찾는 함수\n",
    "def find_max(numbers):\n",
    "    max_num = numbers[0]\n",
    "    for num in numbers:\n",
    "        if num > max_num:\n",
    "            max_num = num\n",
    "    return max_num\n",
    "numbers = [1,5,3,9,2]\n",
    "print(find_max(numbers))"
   ]
  },
  {
   "cell_type": "code",
   "execution_count": 45,
   "metadata": {},
   "outputs": [
    {
     "name": "stdout",
     "output_type": "stream",
     "text": [
      "[2, 4, 6, 8, 10]\n"
     ]
    }
   ],
   "source": [
    "def get_even_numbers(start, end):\n",
    "    even_nums = []\n",
    "    for num in range(start, end+1):\n",
    "        if num % 2 == 0:\n",
    "            even_nums.append(num)\n",
    "    return even_nums\n",
    "print(get_even_numbers(1,10))\n",
    "\n",
    "# end+1을 하는 이유: range는 마지막 숫자 직전까지만 포함하기 때문\n",
    "# even_nums.append(num): 짝수를 리스트에 추가\n"
   ]
  },
  {
   "cell_type": "code",
   "execution_count": 46,
   "metadata": {},
   "outputs": [
    {
     "name": "stdout",
     "output_type": "stream",
     "text": [
      "1개월 차:  200,000원 저축\n",
      "2개월 차:  400,000원 저축\n",
      "3개월 차:  600,000원 저축\n",
      "4개월 차:  800,000원 저축\n",
      "5개월 차:  1,000,000원 저축\n",
      "5개월 만에 목표 금액 달성!\n"
     ]
    }
   ],
   "source": [
    "# 목표 금액 모을 때까지 저축하는 시뮬레이션 함수\n",
    "def saving_simulation(target_amount, monthly_saving):\n",
    "    total = 0\n",
    "    months = 0\n",
    "    while total < target_amount:\n",
    "        total += monthly_saving\n",
    "        months += 1\n",
    "        print(f\"{months}개월 차: {total: ,}원 저축\")    # {total: ,}에서 콤마는 1000단위 구분\n",
    "    return f\"{months}개월 만에 목표 금액 달성!\"\n",
    "print(saving_simulation(1000000, 200000))   # 출력 : 5개월 만에 목표 금액 달성"
   ]
  },
  {
   "cell_type": "code",
   "execution_count": 62,
   "metadata": {},
   "outputs": [
    {
     "name": "stdout",
     "output_type": "stream",
     "text": [
      "더 큰 숫자입니다!\n",
      "더 작은 숫자입니다!\n",
      "더 작은 숫자입니다!\n",
      "정답입니다! 4번 만에 맞추셨습니다.\n"
     ]
    }
   ],
   "source": [
    "# 숫자 맞추기 게임 함수\n",
    "answer = int(input(\"1부터 100 사이의 숫자를 입력하세요.\"))\n",
    "def guess_number(answer):\n",
    "    count = 0\n",
    "    guess = None\n",
    "    while guess != answer:\n",
    "        guess = int(input(\"1부터 100 사이의 숫자를 맞춰보세요: \"))\n",
    "        count += 1\n",
    "        if guess < answer:\n",
    "            print(\"더 큰 숫자입니다!\")\n",
    "        elif guess > answer:\n",
    "            print(\"더 작은 숫자입니다!\")\n",
    "    return f\"정답입니다! {count}번 만에 맞추셨습니다.\"\n",
    "print(guess_number(answer))"
   ]
  },
  {
   "cell_type": "code",
   "execution_count": 73,
   "metadata": {},
   "outputs": [
    {
     "name": "stdout",
     "output_type": "stream",
     "text": [
      "===== 데이터 정규화 예제 =====\n",
      "원본 데이터: [0, 40, 60, 80, 100]\n",
      "정규화된 데이터: [0.0, 0.4, 0.6, 0.8, 1.0]\n"
     ]
    }
   ],
   "source": [
    "# 데이터 정규화 함수 (cf. 정규화: 서로 다른 범위의 값들을 비교할 떄, 값들을 동일한 기준으로 맞춤)\n",
    "def normalize_data(numbers):\n",
    "    \"\"\"\n",
    "    데이터를 0~1 사이의 값으로 정규화 하는 함수\n",
    "    정규화 = (값 - 최소값) / (최대값 - 최소값)\n",
    "    매개변수:\n",
    "        numbers: 정규화할 숫자 리스트\n",
    "    반환값:\n",
    "        정규화된 데이터 리스트 (0~1 사이의 값)\n",
    "    \"\"\"\n",
    "    min_value = min(numbers)    #데이터의 최소값\n",
    "    max_value = max(numbers)    #데이터의 최대값\n",
    "    normalized = [] #정규화된 값을 저장할 리스트\n",
    "    \n",
    "    for num in numbers:\n",
    "        #정규화 공식 적용\n",
    "        norm_value = (num - min_value) / (max_value - min_value)\n",
    "        normalized.append(norm_value)\n",
    "    return normalized\n",
    "\n",
    "data = [0,40,60,80,100]\n",
    "print(\"===== 데이터 정규화 예제 =====\")\n",
    "print(\"원본 데이터:\", data)     #출력 : 원본 데이터 : [10,20,30,40,50]\n",
    "normalized = normalize_data(data)\n",
    "print(\"정규화된 데이터:\", normalized)   #출력 : [0.0, 0.25, 0.5, 0.75, 1.0]"
   ]
  },
  {
   "cell_type": "code",
   "execution_count": 80,
   "metadata": {},
   "outputs": [
    {
     "name": "stdout",
     "output_type": "stream",
     "text": [
      "===== 데이터 분할 예제 =====\n",
      " 전체 데이터: [1, 2, 3, 4, 5, 6, 7, 8, 9, 10]\n",
      "기본 비율(80%)로 분할:\n",
      "학습 데이터: [1, 2, 3, 4, 5, 6, 7, 8]\n",
      "테스트 데이터: [9, 10]\n"
     ]
    }
   ],
   "source": [
    "#데이터 분할 함수\n",
    "def split_data(data, train_ratio=0.8):\n",
    "    \"\"\"\n",
    "    데이터를 학습용과 테스트용으로 분리하는 함수\n",
    "    매개변수:\n",
    "        data: 분할할 데이터 리스트\n",
    "        train_ratio: 학습 데이터의 비율 (기본값 0.8 = 80%)\n",
    "    반환값:\n",
    "        train_data: 학습용 데이터\n",
    "        test_data: 테스트용 데이터\n",
    "    \"\"\"\n",
    "    # 학습 데이터 개수 계산\n",
    "    split_index = int(len(data) * train_ratio)  # len함수: 문자열, 리스트, 튜플 등 길이 측정\n",
    "    #데이터 분할\n",
    "    train_data = data[:split_index]     #처음부터 split_index 까지\n",
    "    test_data = data[split_index:]      #split_index부터 끝까지\n",
    "    return train_data, test_data\n",
    "#데이터 분할 함수 사용 예시\n",
    "full_data = [1,2,3,4,5,6,7,8,9,10]\n",
    "print(\"===== 데이터 분할 예제 =====\")\n",
    "print(\" 전체 데이터:\", full_data)       #콤마(,)로 결과로 나오는 리스트의 요소 값을 구분\n",
    "#80:20으로 분할\n",
    "train, test = split_data(full_data)\n",
    "print(\"기본 비율(80%)로 분할:\")\n",
    "print(\"학습 데이터:\", train)    #학습 데이터 : [1,2,3,4,5,6,7,8]\n",
    "print(\"테스트 데이터:\",test)    # 테스트 데이터 : [9,10]"
   ]
  },
  {
   "cell_type": "code",
   "execution_count": 81,
   "metadata": {},
   "outputs": [
    {
     "name": "stdout",
     "output_type": "stream",
     "text": [
      "12\n"
     ]
    }
   ],
   "source": [
    "multiply = lambda x, y: x*y\n",
    "print(multiply(3,4))"
   ]
  },
  {
   "cell_type": "code",
   "execution_count": 82,
   "metadata": {},
   "outputs": [
    {
     "name": "stdout",
     "output_type": "stream",
     "text": [
      "12\n"
     ]
    }
   ],
   "source": [
    "def multiply(x,y):\n",
    "    return x*y\n",
    "print(multiply(3,4))"
   ]
  },
  {
   "cell_type": "code",
   "execution_count": 83,
   "metadata": {},
   "outputs": [
    {
     "name": "stdout",
     "output_type": "stream",
     "text": [
      "25\n"
     ]
    }
   ],
   "source": [
    "square = lambda x: x**2\n",
    "print(square(5))"
   ]
  },
  {
   "cell_type": "code",
   "execution_count": 84,
   "metadata": {},
   "outputs": [
    {
     "name": "stdout",
     "output_type": "stream",
     "text": [
      "10\n"
     ]
    }
   ],
   "source": [
    "add = lambda a,b: a + b\n",
    "print(add(3,7))"
   ]
  },
  {
   "cell_type": "code",
   "execution_count": 85,
   "metadata": {},
   "outputs": [
    {
     "name": "stdout",
     "output_type": "stream",
     "text": [
      "-4\n"
     ]
    }
   ],
   "source": [
    "substract = lambda a,b: a - b\n",
    "print(substract(3,7))"
   ]
  },
  {
   "cell_type": "code",
   "execution_count": 87,
   "metadata": {},
   "outputs": [
    {
     "name": "stdout",
     "output_type": "stream",
     "text": [
      "0.42857142857142855\n"
     ]
    }
   ],
   "source": [
    "divide = lambda a,b: a/b\n",
    "print(divide(3,7))"
   ]
  },
  {
   "cell_type": "code",
   "execution_count": 99,
   "metadata": {},
   "outputs": [
    {
     "name": "stdout",
     "output_type": "stream",
     "text": [
      "홀수\n"
     ]
    }
   ],
   "source": [
    "check_even = lambda x:\"짝수\" if x % 2 == 0 else \"홀수\"\n",
    "checkNum = int(input(\"숫자를 입력하세요.\"))\n",
    "print(check_even(checkNum))"
   ]
  },
  {
   "cell_type": "code",
   "execution_count": 100,
   "metadata": {},
   "outputs": [
    {
     "name": "stdout",
     "output_type": "stream",
     "text": [
      "[1, 2, 5, 9]\n"
     ]
    }
   ],
   "source": [
    "numbers = [5,2,9,1]\n",
    "sorted_numbers = sorted(numbers, key=lambda x: x)\n",
    "print(sorted_numbers)"
   ]
  },
  {
   "cell_type": "code",
   "execution_count": 101,
   "metadata": {},
   "outputs": [
    {
     "name": "stdout",
     "output_type": "stream",
     "text": [
      "이름: 자바 | 점수: 100점 | A학점\n"
     ]
    }
   ],
   "source": [
    "name, score = str(input(\"이름을 입력하세요: \")), int(input(\"점수를 입력하세요: \"))\n",
    "if score >= 90:\n",
    "    print(f\"이름: {name} | 점수: {score}점 | A학점\")\n",
    "elif score >=80:\n",
    "    print(f\"이름: {name} | 점수: {score}점 | B학점\")\n",
    "elif score >=70:\n",
    "    print(f\"이름: {name} | 점수: {score}점 | C학점\")\n",
    "elif score >= 60:\n",
    "    print(f\"이름: {name} | 점수: {score}점 | D학점\")\n",
    "elif score >100 or score < 0:\n",
    "    print(\"잘못된 점수입니다.\")\n",
    "else:\n",
    "    print(f\"이름: {name} | 점수: {score}점 | F학점\")"
   ]
  },
  {
   "cell_type": "code",
   "execution_count": 110,
   "metadata": {},
   "outputs": [
    {
     "name": "stdout",
     "output_type": "stream",
     "text": [
      "<class 'int'>\n"
     ]
    }
   ],
   "source": [
    "print(type(12321))"
   ]
  },
  {
   "cell_type": "code",
   "execution_count": 111,
   "metadata": {},
   "outputs": [
    {
     "name": "stdout",
     "output_type": "stream",
     "text": [
      "안녕하세요, Alice입니다. 저는 30살이고 사용하는 주 언어는 자바입니다.\n"
     ]
    }
   ],
   "source": [
    "# format 함수 : f-string과 유사\n",
    "name = \"Alice\"\n",
    "age = \"30\"\n",
    "good = \"자바\"\n",
    "\n",
    "greeting = \"안녕하세요, {}입니다. 저는 {}살이고 사용하는 주 언어는 {}입니다.\".format(name, age, good)\n",
    "print(greeting)"
   ]
  },
  {
   "cell_type": "code",
   "execution_count": 112,
   "metadata": {},
   "outputs": [
    {
     "name": "stdout",
     "output_type": "stream",
     "text": [
      "3.1\n"
     ]
    }
   ],
   "source": [
    "# round 함수 : 숫자 반올림\n",
    "# 소수점 첫째 자리에서 반올림\n",
    "number = 3.14159\n",
    "rounded_number = round(number, 1)\n",
    "print(rounded_number)"
   ]
  },
  {
   "cell_type": "code",
   "execution_count": 173,
   "metadata": {},
   "outputs": [
    {
     "name": "stdout",
     "output_type": "stream",
     "text": [
      "27\n",
      "8\n"
     ]
    }
   ],
   "source": [
    "# pow 함수 : 밑수를 지수승으로 계산\n",
    "# 2의 3승 계산\n",
    "result = pow(3, 3)\n",
    "result1 = pow(2, 3)\n",
    "print(result)\n",
    "print(result1)"
   ]
  },
  {
   "cell_type": "code",
   "execution_count": 116,
   "metadata": {},
   "outputs": [
    {
     "name": "stdout",
     "output_type": "stream",
     "text": [
      "[2, 4, 6, 8, 10]\n"
     ]
    }
   ],
   "source": [
    "# map 함수(1) : 데이터를 일정한 방식(함수)으로 모두 처리해주는 역할\n",
    "# 리스트의 모든 요소를 두 배로 만들기\n",
    "numbers = [1,2,3,4,5]\n",
    "doubled_numbers = list(map(lambda x: x*2, numbers))\n",
    "print(doubled_numbers)"
   ]
  },
  {
   "cell_type": "code",
   "execution_count": 117,
   "metadata": {},
   "outputs": [
    {
     "name": "stdout",
     "output_type": "stream",
     "text": [
      "[2, 4, 6, 8, 10]\n"
     ]
    }
   ],
   "source": [
    "# map 함수(2)\n",
    "numbers = [1, 2, 3, 4, 5]\n",
    "\n",
    "# 각 숫자를 두 배로 만드는 함수\n",
    "def double(x):\n",
    "    return x * 2\n",
    "\n",
    "# map 함수를 사용하여 각 숫자에 double 함수 적용\n",
    "result = list(map(double, numbers))\n",
    "print(result)"
   ]
  },
  {
   "cell_type": "code",
   "execution_count": 125,
   "metadata": {},
   "outputs": [
    {
     "name": "stdout",
     "output_type": "stream",
     "text": [
      "['APPLE', 'BANANA', 'CHERRY']\n",
      "['apple', 'banana', 'cherry']\n"
     ]
    }
   ],
   "source": [
    "words = ['Apple','bananA','CheRry']\n",
    "def to_upper(s):\n",
    "    return s.upper()\n",
    "def to_lower(s):\n",
    "    return s.lower()\n",
    "result_upper = list(map(to_upper, words))\n",
    "result_lower = list(map(to_lower, words))\n",
    "print(result_upper)\n",
    "print(result_lower)"
   ]
  },
  {
   "cell_type": "code",
   "execution_count": 126,
   "metadata": {},
   "outputs": [
    {
     "name": "stdout",
     "output_type": "stream",
     "text": [
      "[2, 4]\n"
     ]
    }
   ],
   "source": [
    "# filter 함수 : 함수의 결과가 True인 요소만 추출\n",
    "numbers = [1,2,3,4,5]\n",
    "even_numbers = list(filter(lambda x: x % 2 == 0, numbers))\n",
    "print(even_numbers)"
   ]
  },
  {
   "cell_type": "code",
   "execution_count": 127,
   "metadata": {},
   "outputs": [
    {
     "name": "stdout",
     "output_type": "stream",
     "text": [
      "[(1, 'a'), (2, 'b'), (3, 'c')]\n"
     ]
    }
   ],
   "source": [
    "# zip 함수 : 같은 인덱스에 있는 요소들을 튜플로 묶어서 새로운 것을 만듦\n",
    "list1 = [1,2,3]\n",
    "list2 = ['a','b','c']\n",
    "result = list(zip(list1, list2))\n",
    "print(result)"
   ]
  },
  {
   "cell_type": "code",
   "execution_count": 129,
   "metadata": {},
   "outputs": [
    {
     "name": "stdout",
     "output_type": "stream",
     "text": [
      "0 apple\n",
      "1 banana\n",
      "2 cherry\n"
     ]
    }
   ],
   "source": [
    "# enumerate 함수 : 각 요소에 대해 (index, value) 튜플을 생성\n",
    "fruits = ['apple','banana','cherry']\n",
    "for index, fruit in enumerate(fruits):\n",
    "    print(index, fruit)"
   ]
  },
  {
   "cell_type": "code",
   "execution_count": 130,
   "metadata": {},
   "outputs": [
    {
     "name": "stdout",
     "output_type": "stream",
     "text": [
      "['apple', 'banana', 'cherry']\n"
     ]
    }
   ],
   "source": [
    "# 리스트의 끝에 요소를 추가 append\n",
    "fruits = ['apple','banana']\n",
    "fruits.append('cherry')\n",
    "print(fruits)"
   ]
  },
  {
   "cell_type": "code",
   "execution_count": 134,
   "metadata": {},
   "outputs": [
    {
     "name": "stdout",
     "output_type": "stream",
     "text": [
      "['apple', 'banana', 'cherry', 'date']\n"
     ]
    }
   ],
   "source": [
    "# 리스트에 다른 리스트나 반복 가능한 객체의 모든 요소를 추가 extend\n",
    "fruits=['apple','banana']\n",
    "fruits.extend(['cherry','date'])\n",
    "print(fruits)"
   ]
  },
  {
   "cell_type": "code",
   "execution_count": 136,
   "metadata": {},
   "outputs": [
    {
     "name": "stdout",
     "output_type": "stream",
     "text": [
      "['apple', 'banana', 'cherry']\n"
     ]
    }
   ],
   "source": [
    "# 지정한 위치에 요소를 삽입 insert\n",
    "fruits=['apple','cherry']\n",
    "fruits.insert(1,'banana')\n",
    "print(fruits)"
   ]
  },
  {
   "cell_type": "code",
   "execution_count": 137,
   "metadata": {},
   "outputs": [
    {
     "name": "stdout",
     "output_type": "stream",
     "text": [
      "['apple', 'cherry']\n"
     ]
    }
   ],
   "source": [
    "# 첫 번째로 나타나는 특정 요소를 삭제 remove\n",
    "fruits = ['apple','banana','cherry']\n",
    "fruits.remove('banana')\n",
    "print(fruits)"
   ]
  },
  {
   "cell_type": "code",
   "execution_count": 138,
   "metadata": {},
   "outputs": [
    {
     "name": "stdout",
     "output_type": "stream",
     "text": [
      "cherry\n",
      "['apple', 'banana']\n"
     ]
    }
   ],
   "source": [
    "# 특정 인덱스의 요소를 삭제하고 반환, 인덱스를 생략하면 마지막 요소를 제거 pop\n",
    "fruits=['apple','banana','cherry']\n",
    "last_item=fruits.pop()\n",
    "print(last_item)\n",
    "print(fruits)"
   ]
  },
  {
   "cell_type": "code",
   "execution_count": 143,
   "metadata": {},
   "outputs": [
    {
     "name": "stdout",
     "output_type": "stream",
     "text": [
      "[1, 1, 3, 4, 5]\n"
     ]
    }
   ],
   "source": [
    "# 리스트를 오름차순으로 정렬(기본값). reverse=True를 설정하면 내림차순 정렬 sort\n",
    "numbers = [3,1,4,1,5]\n",
    "# numbers.sort(reverse=True) 이렇게 설정하면 내림차순 정렬\n",
    "numbers.sort() # 기본 or reverse=False 라면 오름차순 정렬\n",
    "print(numbers)"
   ]
  },
  {
   "cell_type": "code",
   "execution_count": 144,
   "metadata": {},
   "outputs": [
    {
     "name": "stdout",
     "output_type": "stream",
     "text": [
      "[3, 2, 1]\n"
     ]
    }
   ],
   "source": [
    "# 리스트의 순서를 반대로 변경 reverse\n",
    "numbers = [1,2,3]\n",
    "numbers.reverse()\n",
    "print(numbers)"
   ]
  },
  {
   "cell_type": "code",
   "execution_count": 150,
   "metadata": {},
   "outputs": [
    {
     "name": "stdout",
     "output_type": "stream",
     "text": [
      "2\n"
     ]
    }
   ],
   "source": [
    "# 리스트에서 특정 요소의 개수를 반환 count\n",
    "numbers =[1,2,3,1]\n",
    "print(numbers.count(1))"
   ]
  },
  {
   "cell_type": "code",
   "execution_count": 146,
   "metadata": {},
   "outputs": [
    {
     "name": "stdout",
     "output_type": "stream",
     "text": [
      "1\n"
     ]
    }
   ],
   "source": [
    "# 특정 요소의 인덱스를 반환 index\n",
    "numbers =['apple','banana','cherry']\n",
    "print(numbers.index('banana'))"
   ]
  },
  {
   "cell_type": "code",
   "execution_count": 151,
   "metadata": {},
   "outputs": [
    {
     "name": "stdout",
     "output_type": "stream",
     "text": [
      "hello world\n"
     ]
    }
   ],
   "source": [
    "# 문자열을 소문자로 변환 lower\n",
    "text = \"Hello World\"\n",
    "print(text.lower())"
   ]
  },
  {
   "cell_type": "code",
   "execution_count": 152,
   "metadata": {},
   "outputs": [
    {
     "name": "stdout",
     "output_type": "stream",
     "text": [
      "HELLO WORLD\n"
     ]
    }
   ],
   "source": [
    "# 문자열을 대문자로 변환 upper\n",
    "text = \"Hello World\"\n",
    "print(text.upper())"
   ]
  },
  {
   "cell_type": "code",
   "execution_count": 154,
   "metadata": {},
   "outputs": [
    {
     "name": "stdout",
     "output_type": "stream",
     "text": [
      "Hello World\n"
     ]
    }
   ],
   "source": [
    "# 양쪽 끝의 공백 또는 특정문자 제거 strip\n",
    "text = \" Hello World \"\n",
    "print(text.strip())"
   ]
  },
  {
   "cell_type": "code",
   "execution_count": 156,
   "metadata": {},
   "outputs": [
    {
     "name": "stdout",
     "output_type": "stream",
     "text": [
      "bonono\n"
     ]
    }
   ],
   "source": [
    "# 특정 문자열을 다른 문자열로 치환 replace\n",
    "text=\"banana\"\n",
    "print(text.replace(\"a\",\"o\"))"
   ]
  },
  {
   "cell_type": "code",
   "execution_count": 157,
   "metadata": {},
   "outputs": [
    {
     "name": "stdout",
     "output_type": "stream",
     "text": [
      "['apple', ' banana', ' cherry']\n"
     ]
    }
   ],
   "source": [
    "# 문자열을 구분자를 기준으로 분리하여 리스트로 반환 split\n",
    "text = \"apple, banana, cherry\"\n",
    "print(text.split(','))"
   ]
  },
  {
   "cell_type": "code",
   "execution_count": 162,
   "metadata": {},
   "outputs": [
    {
     "name": "stdout",
     "output_type": "stream",
     "text": [
      "apple,banana,cherry\n"
     ]
    }
   ],
   "source": [
    "# 리스트나 튜플의 요소를 문자열로 결합\n",
    "fruits = ['apple','banana','cherry']\n",
    "print(','.join(fruits))"
   ]
  },
  {
   "cell_type": "code",
   "execution_count": 155,
   "metadata": {},
   "outputs": [
    {
     "name": "stdout",
     "output_type": "stream",
     "text": [
      "6\n"
     ]
    }
   ],
   "source": [
    "# 부분 문자열의 첫 번째 위치를 반환 find\n",
    "text = \"Hello World\"\n",
    "print(text.find(\"World\"))"
   ]
  },
  {
   "cell_type": "code",
   "execution_count": 163,
   "metadata": {},
   "outputs": [
    {
     "name": "stdout",
     "output_type": "stream",
     "text": [
      "True\n",
      "True\n"
     ]
    }
   ],
   "source": [
    "# 문자열이 특정 접두사/접미사로 시작하거나 끝나는지 확인 startswith/endswith\n",
    "text = \"Hello World\"\n",
    "print(text.startswith(\"Hello\"))\n",
    "print(text.endswith(\"World\"))"
   ]
  },
  {
   "cell_type": "code",
   "execution_count": 168,
   "metadata": {},
   "outputs": [
    {
     "name": "stdout",
     "output_type": "stream",
     "text": [
      "True\n"
     ]
    }
   ],
   "source": [
    "# 문자열이 숫자로만 구성되어 있는지 확인 isnumeric\n",
    "text=\"12345\"\n",
    "print(text.isnumeric())"
   ]
  },
  {
   "cell_type": "code",
   "execution_count": 172,
   "metadata": {},
   "outputs": [
    {
     "name": "stdout",
     "output_type": "stream",
     "text": [
      "Hello world\n",
      "Hello World\n"
     ]
    }
   ],
   "source": [
    "# 첫 번째 문자를 대문자로, 나머지는 소문자로 변환 capitalize\n",
    "# 단어마다 첫 글자를 대문자로 변환 title\n",
    "text = \"hello world\"\n",
    "print(text.capitalize())\n",
    "print(text.title())"
   ]
  }
 ],
 "metadata": {
  "kernelspec": {
   "display_name": ".venv",
   "language": "python",
   "name": "python3"
  },
  "language_info": {
   "codemirror_mode": {
    "name": "ipython",
    "version": 3
   },
   "file_extension": ".py",
   "mimetype": "text/x-python",
   "name": "python",
   "nbconvert_exporter": "python",
   "pygments_lexer": "ipython3",
   "version": "3.12.8"
  }
 },
 "nbformat": 4,
 "nbformat_minor": 2
}
