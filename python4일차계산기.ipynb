{
 "cells": [
  {
   "cell_type": "code",
   "execution_count": null,
   "metadata": {},
   "outputs": [],
   "source": [
    "def calculate(arithmetic):\n",
    "    try:\n",
    "        allowed = '0123456789+-*/().% '\n",
    "        if not all(c in allowed for c in arithmetic):\n",
    "            return \"허용되지 않은 문자가 포함되어 있습니다.\"\n",
    "        \n",
    "        result = eval(arithmetic)\n",
    "        \n",
    "        return result\n",
    "        \n",
    "    except ZeroDivisionError:\n",
    "        return \"0으로 나눌 수 없습니다.\"\n",
    "    except Exception as e:\n",
    "        return \"올바른 수식이 아닙니다.\"\n",
    "\n",
    "def main():\n",
    "    print(\"- 숫자와 연산자를 입력하세요 (예: 2 + 3 * 4)\")\n",
    "    print(\"- 지원하는 연산자: +, -, *, /, (, ), %\")\n",
    "    print(\"- 종료하려면 'q' 를 입력하세요.\")\n",
    "    \n",
    "    while True:\n",
    "        arithmetic = input(\"계산할 수식을 입력하세요: \")\n",
    "        \n",
    "        if arithmetic in ['q']:\n",
    "            print(\"계산기를 종료합니다.\")\n",
    "            break\n",
    "            \n",
    "        if not arithmetic:\n",
    "            continue\n",
    "            \n",
    "        result = calculate(arithmetic)\n",
    "        print(f\"결과: {result}\")\n",
    "\n",
    "if __name__ == \"__main__\":\n",
    "    main()"
   ]
  }
 ],
 "metadata": {
  "kernelspec": {
   "display_name": ".venv",
   "language": "python",
   "name": "python3"
  },
  "language_info": {
   "codemirror_mode": {
    "name": "ipython",
    "version": 3
   },
   "file_extension": ".py",
   "mimetype": "text/x-python",
   "name": "python",
   "nbconvert_exporter": "python",
   "pygments_lexer": "ipython3",
   "version": "3.12.8"
  }
 },
 "nbformat": 4,
 "nbformat_minor": 2
}
