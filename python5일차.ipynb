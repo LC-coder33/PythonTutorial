{
 "cells": [
  {
   "cell_type": "code",
   "execution_count": 6,
   "metadata": {},
   "outputs": [],
   "source": [
    "with open('human.txt', 'w') as f:\n",
    "    f.write('안녕하세요 반갑습니다. 홍길동입니다.\\n')\n",
    "    f.write('파이썬 with문 예시입니다.\\n')"
   ]
  },
  {
   "cell_type": "code",
   "execution_count": 8,
   "metadata": {},
   "outputs": [
    {
     "name": "stdout",
     "output_type": "stream",
     "text": [
      "멍멍이가 짖습니다!\n"
     ]
    }
   ],
   "source": [
    "class Dog:\n",
    "    #초기화 메서드(생성자)\n",
    "    def __init__(self, name):\n",
    "        self.name = name # 인스턴스 변수\n",
    "    def bark(self):\n",
    "        print(f\"{self.name}가 짖습니다!\")\n",
    "    # 객체 생성\n",
    "my_dog = Dog(\"멍멍이\")\n",
    "my_dog.bark()"
   ]
  },
  {
   "cell_type": "code",
   "execution_count": 11,
   "metadata": {},
   "outputs": [
    {
     "name": "stdout",
     "output_type": "stream",
     "text": [
      "나비\n",
      "나비가 야옹하고 웁니다.\n",
      "미야\n",
      "미야가 야옹하고 웁니다.\n"
     ]
    }
   ],
   "source": [
    "# 상속 예제\n",
    "# 부모 클래스 정의\n",
    "class Animal:\n",
    "    def __init__(self, name):\n",
    "        self.name = name\n",
    "    def speak(self):\n",
    "        pass\n",
    "# 자식 클래스 정의\n",
    "class Cat(Animal): #Animal 클래스 상속\n",
    "    def speak(self):\n",
    "        return f\"{self.name}가 야옹하고 웁니다.\"\n",
    "# 객체 생성 및 사용\n",
    "cat1 = Cat(\"나비\")  #Cat 클래스의 인스턴스 생성\n",
    "print(cat1.name)\n",
    "print(cat1.speak())\n",
    "\n",
    "cat2 = Cat(\"미야\")\n",
    "print(cat2.name)\n",
    "print(cat2.speak())"
   ]
  },
  {
   "cell_type": "code",
   "execution_count": 15,
   "metadata": {},
   "outputs": [
    {
     "name": "stdout",
     "output_type": "stream",
     "text": [
      "1000\n"
     ]
    }
   ],
   "source": [
    "class BankAccount:\n",
    "    def __init__(self):\n",
    "        self.__balance = 0 # 비공개 변수\n",
    "    def deposit(self, amount):\n",
    "        if amount > 0:\n",
    "            self.__balance += amount\n",
    "    def get_balance(self):\n",
    "        return self.__balance\n",
    "    \n",
    "account = BankAccount()\n",
    "account.deposit(1000)\n",
    "print(account.get_balance())\n",
    "# print(account, __balance)"
   ]
  },
  {
   "cell_type": "code",
   "execution_count": 16,
   "metadata": {},
   "outputs": [
    {
     "name": "stdout",
     "output_type": "stream",
     "text": [
      "파이썬 고등학교\n",
      "파이썬 고등학교\n",
      "파이썬 고등학교\n",
      "2\n"
     ]
    }
   ],
   "source": [
    "# 클래스 변수와 인스턴스 변수 예제\n",
    "class Student:\n",
    "    school_name = \"파이썬 고등학교\" #클래스 변수\n",
    "    student_count = 0   #클래스 변수\n",
    "    \n",
    "    def __init__(self, name):\n",
    "        self.name = name    #인스턴스 변수\n",
    "        Student.student_count += 1\n",
    "#실행 예제\n",
    "student1 = Student(\"김철수\")\n",
    "student2 = Student(\"이영희\")\n",
    "\n",
    "print(Student.school_name)\n",
    "print(student1.school_name)\n",
    "print(student2.school_name)\n",
    "print(Student.student_count)"
   ]
  },
  {
   "cell_type": "code",
   "execution_count": 17,
   "metadata": {},
   "outputs": [
    {
     "name": "stdout",
     "output_type": "stream",
     "text": [
      "계산기를 초기화합니다.\n",
      "덧셈 결과: 30\n",
      "곱셈 결과 200\n"
     ]
    }
   ],
   "source": [
    "# 간단한 계산기 클래스\n",
    "class Calculator:\n",
    "    #초기화 메서드: 아무 사태 없이 계산만 수행\n",
    "    def __init__(self):\n",
    "        print(\"계산기를 초기화합니다.\")\n",
    "        \n",
    "    # 두 숫자를 더하는 메서드\n",
    "    def add(self, a, b):\n",
    "        return a + b\n",
    "    #두 숫자를 곱하는 메서드\n",
    "    def multiply(self, a, b):\n",
    "        return a * b\n",
    "# 객체 생성 및 메서드 호출\n",
    "calc = Calculator()\n",
    "print(\"덧셈 결과:\",calc.add(10,20))\n",
    "print(\"곱셈 결과\",calc.multiply(10,20))"
   ]
  },
  {
   "cell_type": "code",
   "execution_count": 18,
   "metadata": {},
   "outputs": [
    {
     "name": "stdout",
     "output_type": "stream",
     "text": [
      "이름: 홍길동, 나이: 16\n",
      "이름: 김철수, 나이: 18\n"
     ]
    }
   ],
   "source": [
    "# 학생정보 관리 클래스 예제\n",
    "class Student: \n",
    "    #생성자: 학생 이름과 나이를 초기화\n",
    "    def __init__(self, name, age):\n",
    "        self.name = name\n",
    "        self.age = age\n",
    "    #학생 정보 출력 메서드\n",
    "    def display_info(self):\n",
    "        print(f\"이름: {self.name}, 나이: {self.age}\")\n",
    "#객체 생성 메서드 호출\n",
    "student1 = Student(\"홍길동\", 16)\n",
    "student2 = Student(\"김철수\", 18)\n",
    "\n",
    "student1.display_info()\n",
    "student2.display_info()"
   ]
  },
  {
   "cell_type": "code",
   "execution_count": 19,
   "metadata": {},
   "outputs": [
    {
     "name": "stdout",
     "output_type": "stream",
     "text": [
      "어벤져스 영화의 할인된 가격: 10000원\n"
     ]
    }
   ],
   "source": [
    "# 영화 티켓 할인 예제\n",
    "class MovieTicket:\n",
    "    # 생성자: 영화 제목과 기본 티켓 가격 초기화\n",
    "    def __init__(self, title, price):\n",
    "        self.title = title\n",
    "        self.price = price\n",
    "    # 할인 적용 메서드\n",
    "    def apply_discount(self, discount):\n",
    "        self.price -= discount\n",
    "        print(f\"{self.title} 영화의 할인된 가격: {self.price}원\")\n",
    "ticket = MovieTicket(\"어벤져스\", 12000)\n",
    "ticket.apply_discount(2000)"
   ]
  },
  {
   "cell_type": "code",
   "execution_count": 22,
   "metadata": {},
   "outputs": [
    {
     "name": "stdout",
     "output_type": "stream",
     "text": [
      "5000원이 입금되었습니다. 현재 잔액: 15000원\n",
      "2000원이 출금되었습니다. 현재 잔액: 13000원\n",
      "3000원이 출금되었습니다. 현재 잔액: 10000원\n",
      "잔액이 부족합니다.\n"
     ]
    }
   ],
   "source": [
    "# 간단한 은행 계좌 클래스\n",
    "class BankAccount:\n",
    "    def __init__(self, owner, balance=0):\n",
    "        self.owner = owner\n",
    "        self.balance = balance\n",
    "    def deposit(self, amount):\n",
    "        self.balance += amount\n",
    "        print(f\"{amount}원이 입금되었습니다. 현재 잔액: {self.balance}원\")\n",
    "    def withdraw(self, amount):\n",
    "        if amount > self.balance:\n",
    "            print(\"잔액이 부족합니다.\")\n",
    "        else:\n",
    "            self.balance -= amount\n",
    "            print(f\"{amount}원이 출금되었습니다. 현재 잔액: {self.balance}원\")\n",
    "            \n",
    "amount = BankAccount(\"홍길동\", 10000)\n",
    "amount.deposit(5000)\n",
    "amount.withdraw(2000)\n",
    "amount.withdraw(3000)\n",
    "amount.withdraw(20000)"
   ]
  }
 ],
 "metadata": {
  "kernelspec": {
   "display_name": ".venv",
   "language": "python",
   "name": "python3"
  },
  "language_info": {
   "codemirror_mode": {
    "name": "ipython",
    "version": 3
   },
   "file_extension": ".py",
   "mimetype": "text/x-python",
   "name": "python",
   "nbconvert_exporter": "python",
   "pygments_lexer": "ipython3",
   "version": "3.10.6"
  }
 },
 "nbformat": 4,
 "nbformat_minor": 2
}
