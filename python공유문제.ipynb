{
 "cells": [
  {
   "cell_type": "code",
   "execution_count": null,
   "metadata": {},
   "outputs": [],
   "source": [
    "# 점수에 따른 학점을 출력하세요.\n",
    "name, score =str(input(\"이름을 입력하세요: \")), int(input(\"점수를 입력하세요: \"))\n",
    "if score >= 90:\n",
    "    print(name,\":\", \"A학점\")\n",
    "elif score >= 80:\n",
    "    print(name,\":\", \"B학점\")\n",
    "elif score >= 70:\n",
    "    print(name,\":\", \"C학점\")\n",
    "elif score >= 60:\n",
    "    print(name,\":\", \"D학점\")\n",
    "elif score >100 or score < 0:\n",
    "    print(\"점수를 잘못 입력하셨습니다.\")\n",
    "else:\n",
    "    print(name,\":\", \"F학점\")"
   ]
  },
  {
   "cell_type": "code",
   "execution_count": 1,
   "metadata": {},
   "outputs": [
    {
     "name": "stdout",
     "output_type": "stream",
     "text": [
      "[15, 28, 73, 44, 56, 91, 10, 82, 63]\n",
      "문제1: 462\n",
      "문제2: [28, 44, 56, 10, 82]\n",
      "문제3: [63, 82, 10, 91, 56, 44, 73, 28, 15]\n",
      "문제4: 81\n"
     ]
    }
   ],
   "source": [
    "# numbers의 총합을 구하시오\n",
    "numbers = [15, 28, 73, 44, 56, 91, 10, 82, 63]\n",
    "print(numbers)\n",
    "print(\"문제1:\",sum(numbers))\n",
    "# numbers 중 짝수를 구하시오\n",
    "even = [num for num in numbers if num % 2 == 0]\n",
    "print(\"문제2:\",even)\n",
    "# numbers 를 뒤집으시오\n",
    "numbers.reverse()\n",
    "print(\"문제3:\",numbers)\n",
    "# numbers 의 최대값과 최소값의 차이를 구하시오\n",
    "print(\"문제4:\",max(numbers)-min(numbers))"
   ]
  },
  {
   "cell_type": "code",
   "execution_count": 4,
   "metadata": {},
   "outputs": [
    {
     "name": "stdout",
     "output_type": "stream",
     "text": [
      "30\n"
     ]
    }
   ],
   "source": [
    "a, b= int(input(\"첫번째 숫자를 입력하세요: \")), int(input(\"두번째 숫자를 입력하세요.\"))\n",
    "print(a+b)"
   ]
  },
  {
   "cell_type": "code",
   "execution_count": 6,
   "metadata": {},
   "outputs": [
    {
     "name": "stdout",
     "output_type": "stream",
     "text": [
      "짝수입니다.\n"
     ]
    }
   ],
   "source": [
    "a=int(input(\"숫자:\"))\n",
    "if(a % 2 ==0):\n",
    "    print(\"짝수입니다.\")\n",
    "else:\n",
    "    print(\"홀수입니다.\")"
   ]
  },
  {
   "cell_type": "code",
   "execution_count": 7,
   "metadata": {},
   "outputs": [
    {
     "name": "stdout",
     "output_type": "stream",
     "text": [
      "\n",
      "[ 3단 ]\n",
      "\n",
      "3 x 1 = 3\n",
      "3 x 2 = 6\n",
      "3 x 3 = 9\n",
      "3 x 4 = 12\n",
      "3 x 5 = 15\n",
      "3 x 6 = 18\n",
      "3 x 7 = 21\n",
      "3 x 8 = 24\n",
      "3 x 9 = 27\n"
     ]
    }
   ],
   "source": [
    "def print_multiplication_table(number):\n",
    "    if not 1 <= number <= 9:\n",
    "        print(\"1부터 9 사이의 숫자를 입력해주세요.\")\n",
    "        return\n",
    "    \n",
    "    print(f\"\\n[ {number}단 ]\\n\")\n",
    "    for i in range(1, 10):\n",
    "        print(f\"{number} x {i} = {number * i}\")\n",
    "\n",
    "    num = int(input(\"구구단 숫자를 입력하세요 (1~9): \"))\n",
    "    print_multiplication_table(num)"
   ]
  }
 ],
 "metadata": {
  "kernelspec": {
   "display_name": ".venv",
   "language": "python",
   "name": "python3"
  },
  "language_info": {
   "codemirror_mode": {
    "name": "ipython",
    "version": 3
   },
   "file_extension": ".py",
   "mimetype": "text/x-python",
   "name": "python",
   "nbconvert_exporter": "python",
   "pygments_lexer": "ipython3",
   "version": "3.12.8"
  }
 },
 "nbformat": 4,
 "nbformat_minor": 2
}
