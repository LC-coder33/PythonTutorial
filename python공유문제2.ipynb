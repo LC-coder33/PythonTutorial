{
 "cells": [
  {
   "cell_type": "code",
   "execution_count": 1,
   "metadata": {},
   "outputs": [
    {
     "name": "stdout",
     "output_type": "stream",
     "text": [
      "2020 Ford Mustang\n"
     ]
    }
   ],
   "source": [
    "class Car:\n",
    "  def __init__(self, make, model, year):\n",
    "    self.make = make\n",
    "    self.model = model\n",
    "    self.year = year\n",
    "\n",
    "  def get_info(self):\n",
    "    return f\"{self.year} {self.make} {self.model}\"\n",
    "my_car = Car(\"Ford\", \"Mustang\", 2020)\n",
    "print(my_car.get_info())"
   ]
  },
  {
   "cell_type": "code",
   "execution_count": 5,
   "metadata": {},
   "outputs": [
    {
     "name": "stdout",
     "output_type": "stream",
     "text": [
      "넓이: 600\n",
      "둘레: 100\n"
     ]
    }
   ],
   "source": [
    "class Rectangle:\n",
    "    def __init__(self, width, height):\n",
    "        self.width = width\n",
    "        self.height = height\n",
    "    def area(self):\n",
    "        return self.width * self.height\n",
    "    def perimeter(self):\n",
    "        return (self.width + self.height) * 2\n",
    "my_rectangle = Rectangle(20, 30)\n",
    "print(\"넓이:\", my_rectangle.area())\n",
    "print(\"둘레:\", my_rectangle.perimeter())"
   ]
  },
  {
   "cell_type": "code",
   "execution_count": 7,
   "metadata": {},
   "outputs": [
    {
     "name": "stdout",
     "output_type": "stream",
     "text": [
      "안녕하세요, 제 이름은 자바이고, 나이는 20입니다.\n"
     ]
    }
   ],
   "source": [
    "class person:\n",
    "    def __init__(self, name, age):\n",
    "        self.name = name\n",
    "        self.age = age\n",
    "    def greeting(self):\n",
    "        return f\"안녕하세요, 제 이름은 {self.name}이고, 나이는 {self.age}입니다.\"\n",
    "this_person = person(\"자바\",20)\n",
    "print(this_person.greeting())"
   ]
  },
  {
   "cell_type": "code",
   "execution_count": 9,
   "metadata": {},
   "outputs": [
    {
     "name": "stdout",
     "output_type": "stream",
     "text": [
      "나는 코카스파니엘입니다.\n",
      "나는 개입니다.\n"
     ]
    }
   ],
   "source": [
    "class Animal:\n",
    "    def __init__(self, name, species):\n",
    "        self.name = name\n",
    "        self.species = species\n",
    "    def speak(self):\n",
    "        pass\n",
    "class Dog(Animal):\n",
    "    def speak(self):\n",
    "        return f\"나는 {self.species}입니다.\"\n",
    "dog1 = Dog(\"초코\",\"코카스파니엘\")\n",
    "dog2 = Dog(\"나비\",\"개\")\n",
    "print(dog1.speak())\n",
    "print(dog2.speak())        \n"
   ]
  },
  {
   "cell_type": "code",
   "execution_count": 19,
   "metadata": {},
   "outputs": [
    {
     "name": "stdout",
     "output_type": "stream",
     "text": [
      "3\n"
     ]
    }
   ],
   "source": [
    "class Book:\n",
    "    book_count = 0\n",
    "    \n",
    "    def __init__(self, title, author):\n",
    "        self.title = title\n",
    "        self.author = author\n",
    "        Book.book_count += 1\n",
    "    def get_book_count(self):\n",
    "        return Book.book_count\n",
    "\n",
    "book1 = Book(\"책1\",\"작가1\")\n",
    "book2 = Book(\"책2\",\"작가2\")\n",
    "book3 = Book(\"책3\",\"작가3\")\n",
    "print(book1.get_book_count())"
   ]
  },
  {
   "cell_type": "code",
   "execution_count": 20,
   "metadata": {},
   "outputs": [
    {
     "name": "stdout",
     "output_type": "stream",
     "text": [
      "2\n"
     ]
    }
   ],
   "source": [
    "class Book:\n",
    "    book_count = 0  # 클래스 변수\n",
    "\n",
    "    def __init__(self, title, author):\n",
    "        self.title = title\n",
    "        self.author = author\n",
    "        Book.book_count += 1  # 책이 생성될 때마다 book_count를 증가시킴\n",
    "\n",
    "    @classmethod\n",
    "    def get_book_count(cls):\n",
    "        return cls.book_count\n",
    "\n",
    "# 사용 예시\n",
    "book1 = Book(\"책 1\", \"저자 1\")\n",
    "book2 = Book(\"책 2\", \"저자 2\")\n",
    "print(Book.get_book_count())"
   ]
  },
  {
   "cell_type": "code",
   "execution_count": null,
   "metadata": {},
   "outputs": [],
   "source": [
    "class Car:\n",
    "    def __init__(self, make, model, year):\n",
    "        self.make = make\n",
    "        self.model = model\n",
    "        self.year = year\n",
    "        self.mileage = 0\n",
    "        self.fuel = 50\n",
    "        \n",
    "    def drive(self, distance):\n",
    "        fuel_needed = distance / 10\n",
    "        if self.fuel >= fuel_needed:\n",
    "            self.mileage += distance\n",
    "            self_fuel -= fuel_needed\n",
    "            return True\n",
    "        return False\n",
    "    def refuel(self, amount):\n",
    "        if self.fuel + amount <= 50:\n",
    "            self.fuel += amount\n",
    "            return amount\n",
    "    "
   ]
  }
 ],
 "metadata": {
  "kernelspec": {
   "display_name": ".venv",
   "language": "python",
   "name": "python3"
  },
  "language_info": {
   "codemirror_mode": {
    "name": "ipython",
    "version": 3
   },
   "file_extension": ".py",
   "mimetype": "text/x-python",
   "name": "python",
   "nbconvert_exporter": "python",
   "pygments_lexer": "ipython3",
   "version": "3.12.8"
  }
 },
 "nbformat": 4,
 "nbformat_minor": 2
}
